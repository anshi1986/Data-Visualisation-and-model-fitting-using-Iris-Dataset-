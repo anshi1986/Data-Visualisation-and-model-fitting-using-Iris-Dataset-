{
 "cells": [
  {
   "cell_type": "markdown",
   "metadata": {
    "papermill": {
     "duration": 0.034255,
     "end_time": "2021-03-04T15:11:41.037880",
     "exception": false,
     "start_time": "2021-03-04T15:11:41.003625",
     "status": "completed"
    },
    "tags": []
   },
   "source": [
    "# Problem Statement\n",
    "## This dataset comprises  of three types of flowers framework i.e. Versicolor, Setosa and Virginica. The numeric variables which the dataset contains are Sepal width, Sepal length, Petal width and Petal length. In this dataset,  the researcher is anticipating the categorization of the flowers dependent on these parameters. The information comprises of continuous numeric variables which portray the dimensions of the particular feature. \n",
    "\n",
    "## The objective is to build the model by applying different algorithm and see which model gives the best fit depending upon these parameters."
   ]
  },
  {
   "cell_type": "markdown",
   "metadata": {
    "papermill": {
     "duration": 0.031548,
     "end_time": "2021-03-04T15:11:41.101681",
     "exception": false,
     "start_time": "2021-03-04T15:11:41.070133",
     "status": "completed"
    },
    "tags": []
   },
   "source": [
    "## Solution\n",
    "### Step 1 : Importing Libraries"
   ]
  },
  {
   "cell_type": "code",
   "execution_count": 1,
   "metadata": {
    "execution": {
     "iopub.execute_input": "2021-03-04T15:11:41.171042Z",
     "iopub.status.busy": "2021-03-04T15:11:41.170285Z",
     "iopub.status.idle": "2021-03-04T15:11:42.677338Z",
     "shell.execute_reply": "2021-03-04T15:11:42.676551Z"
    },
    "papermill": {
     "duration": 1.545177,
     "end_time": "2021-03-04T15:11:42.677550",
     "exception": false,
     "start_time": "2021-03-04T15:11:41.132373",
     "status": "completed"
    },
    "tags": []
   },
   "outputs": [],
   "source": [
    "# Python Libraries\n",
    "import numpy as np # linear algebra\n",
    "import pandas as pd # data processing, CSV file I/O (e.g. pd.read_csv)\n",
    "import seaborn as sns\n",
    "\n",
    "# Libraries for Visualization\n",
    "import matplotlib.pyplot as plt\n",
    "\n",
    "\n",
    "# Library for splitting the data in Train and Test\n",
    "from sklearn.model_selection import train_test_split\n",
    "\n",
    "\n",
    "# Library required for the Support Vector Machine Algorithm\n",
    "from sklearn.svm import SVC\n",
    "\n",
    "# Library required for the K – Nearest Neighbour (KNN) Algorithm\n",
    "from sklearn.neighbors import KNeighborsClassifier\n",
    "\n",
    "# Library required for the Random Forest Classifier  Algorithm\n",
    "from sklearn.ensemble import RandomForestClassifier\n",
    "\n",
    "# Library required for the Logistic Regression Algorithm\n",
    "from sklearn.linear_model import LogisticRegression\n",
    "\n",
    "# Library required for the Gaussian Naive Bayes Algorithm\n",
    "from sklearn.naive_bayes import GaussianNB\n",
    "\n",
    "\n",
    "\n",
    "# Library for the metric required to evaluate the model\n",
    "from sklearn.metrics import mean_absolute_error\n",
    "from sklearn.metrics import mean_squared_error\n",
    "from sklearn.metrics import accuracy_score\n"
   ]
  },
  {
   "cell_type": "code",
   "execution_count": 2,
   "metadata": {
    "execution": {
     "iopub.execute_input": "2021-03-04T15:11:42.745173Z",
     "iopub.status.busy": "2021-03-04T15:11:42.744526Z",
     "iopub.status.idle": "2021-03-04T15:11:42.747621Z",
     "shell.execute_reply": "2021-03-04T15:11:42.747028Z"
    },
    "papermill": {
     "duration": 0.038765,
     "end_time": "2021-03-04T15:11:42.747781",
     "exception": false,
     "start_time": "2021-03-04T15:11:42.709016",
     "status": "completed"
    },
    "tags": []
   },
   "outputs": [],
   "source": [
    "### Step 2: Reading the Data"
   ]
  },
  {
   "cell_type": "code",
   "execution_count": 3,
   "metadata": {
    "_cell_guid": "b1076dfc-b9ad-4769-8c92-a6c4dae69d19",
    "_uuid": "8f2839f25d086af736a60e9eeb907d3b93b6e0e5",
    "execution": {
     "iopub.execute_input": "2021-03-04T15:11:42.815967Z",
     "iopub.status.busy": "2021-03-04T15:11:42.815223Z",
     "iopub.status.idle": "2021-03-04T15:11:42.828147Z",
     "shell.execute_reply": "2021-03-04T15:11:42.828745Z"
    },
    "papermill": {
     "duration": 0.049727,
     "end_time": "2021-03-04T15:11:42.828934",
     "exception": false,
     "start_time": "2021-03-04T15:11:42.779207",
     "status": "completed"
    },
    "tags": []
   },
   "outputs": [
    {
     "name": "stdout",
     "output_type": "stream",
     "text": [
      "/kaggle/input/iris-dataset/Iris.csv\n"
     ]
    }
   ],
   "source": [
    "\n",
    "import os\n",
    "for dirname, _, filenames in os.walk('/kaggle/input'):\n",
    "    for filename in filenames:\n",
    "        print(os.path.join(dirname, filename))\n",
    "\n",
    "# You can write up to 20GB to the current directory (/kaggle/working/) that gets preserved as output when you create a version using \"Save & Run All\" \n",
    "# You can also write temporary files to /kaggle/temp/, but they won't be saved outside of the current session"
   ]
  },
  {
   "cell_type": "code",
   "execution_count": 4,
   "metadata": {
    "execution": {
     "iopub.execute_input": "2021-03-04T15:11:42.900236Z",
     "iopub.status.busy": "2021-03-04T15:11:42.899499Z",
     "iopub.status.idle": "2021-03-04T15:11:42.914691Z",
     "shell.execute_reply": "2021-03-04T15:11:42.913971Z"
    },
    "papermill": {
     "duration": 0.053722,
     "end_time": "2021-03-04T15:11:42.914838",
     "exception": false,
     "start_time": "2021-03-04T15:11:42.861116",
     "status": "completed"
    },
    "tags": []
   },
   "outputs": [],
   "source": [
    "iris_d = pd.read_csv('/kaggle/input/iris-dataset/Iris.csv')"
   ]
  },
  {
   "cell_type": "markdown",
   "metadata": {
    "papermill": {
     "duration": 0.031887,
     "end_time": "2021-03-04T15:11:42.979724",
     "exception": false,
     "start_time": "2021-03-04T15:11:42.947837",
     "status": "completed"
    },
    "tags": []
   },
   "source": [
    "### Step 3: Understanding the Data\n",
    "#### The dataset comprises of small set of data with 150 sample size. It has four feature variables (IVs) belonging to either of the three target variables (DVs)."
   ]
  },
  {
   "cell_type": "code",
   "execution_count": 5,
   "metadata": {
    "execution": {
     "iopub.execute_input": "2021-03-04T15:11:43.059234Z",
     "iopub.status.busy": "2021-03-04T15:11:43.058233Z",
     "iopub.status.idle": "2021-03-04T15:11:43.082230Z",
     "shell.execute_reply": "2021-03-04T15:11:43.081596Z"
    },
    "papermill": {
     "duration": 0.070244,
     "end_time": "2021-03-04T15:11:43.082368",
     "exception": false,
     "start_time": "2021-03-04T15:11:43.012124",
     "status": "completed"
    },
    "tags": []
   },
   "outputs": [
    {
     "data": {
      "text/html": [
       "<div>\n",
       "<style scoped>\n",
       "    .dataframe tbody tr th:only-of-type {\n",
       "        vertical-align: middle;\n",
       "    }\n",
       "\n",
       "    .dataframe tbody tr th {\n",
       "        vertical-align: top;\n",
       "    }\n",
       "\n",
       "    .dataframe thead th {\n",
       "        text-align: right;\n",
       "    }\n",
       "</style>\n",
       "<table border=\"1\" class=\"dataframe\">\n",
       "  <thead>\n",
       "    <tr style=\"text-align: right;\">\n",
       "      <th></th>\n",
       "      <th>Id</th>\n",
       "      <th>SepalLengthCm</th>\n",
       "      <th>SepalWidthCm</th>\n",
       "      <th>PetalLengthCm</th>\n",
       "      <th>PetalWidthCm</th>\n",
       "      <th>Species</th>\n",
       "    </tr>\n",
       "  </thead>\n",
       "  <tbody>\n",
       "    <tr>\n",
       "      <th>0</th>\n",
       "      <td>1</td>\n",
       "      <td>5.1</td>\n",
       "      <td>3.5</td>\n",
       "      <td>1.4</td>\n",
       "      <td>0.2</td>\n",
       "      <td>Iris-setosa</td>\n",
       "    </tr>\n",
       "    <tr>\n",
       "      <th>1</th>\n",
       "      <td>2</td>\n",
       "      <td>4.9</td>\n",
       "      <td>3.0</td>\n",
       "      <td>1.4</td>\n",
       "      <td>0.2</td>\n",
       "      <td>Iris-setosa</td>\n",
       "    </tr>\n",
       "    <tr>\n",
       "      <th>2</th>\n",
       "      <td>3</td>\n",
       "      <td>4.7</td>\n",
       "      <td>3.2</td>\n",
       "      <td>1.3</td>\n",
       "      <td>0.2</td>\n",
       "      <td>Iris-setosa</td>\n",
       "    </tr>\n",
       "    <tr>\n",
       "      <th>3</th>\n",
       "      <td>4</td>\n",
       "      <td>4.6</td>\n",
       "      <td>3.1</td>\n",
       "      <td>1.5</td>\n",
       "      <td>0.2</td>\n",
       "      <td>Iris-setosa</td>\n",
       "    </tr>\n",
       "    <tr>\n",
       "      <th>4</th>\n",
       "      <td>5</td>\n",
       "      <td>5.0</td>\n",
       "      <td>3.6</td>\n",
       "      <td>1.4</td>\n",
       "      <td>0.2</td>\n",
       "      <td>Iris-setosa</td>\n",
       "    </tr>\n",
       "  </tbody>\n",
       "</table>\n",
       "</div>"
      ],
      "text/plain": [
       "   Id  SepalLengthCm  SepalWidthCm  PetalLengthCm  PetalWidthCm      Species\n",
       "0   1            5.1           3.5            1.4           0.2  Iris-setosa\n",
       "1   2            4.9           3.0            1.4           0.2  Iris-setosa\n",
       "2   3            4.7           3.2            1.3           0.2  Iris-setosa\n",
       "3   4            4.6           3.1            1.5           0.2  Iris-setosa\n",
       "4   5            5.0           3.6            1.4           0.2  Iris-setosa"
      ]
     },
     "execution_count": 5,
     "metadata": {},
     "output_type": "execute_result"
    }
   ],
   "source": [
    "# Fetching first 5 rows of the dataset\n",
    "\n",
    "iris_d.head()"
   ]
  },
  {
   "cell_type": "code",
   "execution_count": 6,
   "metadata": {
    "execution": {
     "iopub.execute_input": "2021-03-04T15:11:43.168214Z",
     "iopub.status.busy": "2021-03-04T15:11:43.167134Z",
     "iopub.status.idle": "2021-03-04T15:11:43.172073Z",
     "shell.execute_reply": "2021-03-04T15:11:43.171379Z"
    },
    "papermill": {
     "duration": 0.057297,
     "end_time": "2021-03-04T15:11:43.172229",
     "exception": false,
     "start_time": "2021-03-04T15:11:43.114932",
     "status": "completed"
    },
    "tags": []
   },
   "outputs": [
    {
     "data": {
      "text/html": [
       "<div>\n",
       "<style scoped>\n",
       "    .dataframe tbody tr th:only-of-type {\n",
       "        vertical-align: middle;\n",
       "    }\n",
       "\n",
       "    .dataframe tbody tr th {\n",
       "        vertical-align: top;\n",
       "    }\n",
       "\n",
       "    .dataframe thead th {\n",
       "        text-align: right;\n",
       "    }\n",
       "</style>\n",
       "<table border=\"1\" class=\"dataframe\">\n",
       "  <thead>\n",
       "    <tr style=\"text-align: right;\">\n",
       "      <th></th>\n",
       "      <th>Id</th>\n",
       "      <th>SepalLengthCm</th>\n",
       "      <th>SepalWidthCm</th>\n",
       "      <th>PetalLengthCm</th>\n",
       "      <th>PetalWidthCm</th>\n",
       "      <th>Species</th>\n",
       "    </tr>\n",
       "  </thead>\n",
       "  <tbody>\n",
       "    <tr>\n",
       "      <th>25</th>\n",
       "      <td>26</td>\n",
       "      <td>5.0</td>\n",
       "      <td>3.0</td>\n",
       "      <td>1.6</td>\n",
       "      <td>0.2</td>\n",
       "      <td>Iris-setosa</td>\n",
       "    </tr>\n",
       "    <tr>\n",
       "      <th>113</th>\n",
       "      <td>114</td>\n",
       "      <td>5.7</td>\n",
       "      <td>2.5</td>\n",
       "      <td>5.0</td>\n",
       "      <td>2.0</td>\n",
       "      <td>Iris-virginica</td>\n",
       "    </tr>\n",
       "    <tr>\n",
       "      <th>18</th>\n",
       "      <td>19</td>\n",
       "      <td>5.7</td>\n",
       "      <td>3.8</td>\n",
       "      <td>1.7</td>\n",
       "      <td>0.3</td>\n",
       "      <td>Iris-setosa</td>\n",
       "    </tr>\n",
       "    <tr>\n",
       "      <th>29</th>\n",
       "      <td>30</td>\n",
       "      <td>4.7</td>\n",
       "      <td>3.2</td>\n",
       "      <td>1.6</td>\n",
       "      <td>0.2</td>\n",
       "      <td>Iris-setosa</td>\n",
       "    </tr>\n",
       "    <tr>\n",
       "      <th>70</th>\n",
       "      <td>71</td>\n",
       "      <td>5.9</td>\n",
       "      <td>3.2</td>\n",
       "      <td>4.8</td>\n",
       "      <td>1.8</td>\n",
       "      <td>Iris-versicolor</td>\n",
       "    </tr>\n",
       "    <tr>\n",
       "      <th>30</th>\n",
       "      <td>31</td>\n",
       "      <td>4.8</td>\n",
       "      <td>3.1</td>\n",
       "      <td>1.6</td>\n",
       "      <td>0.2</td>\n",
       "      <td>Iris-setosa</td>\n",
       "    </tr>\n",
       "    <tr>\n",
       "      <th>121</th>\n",
       "      <td>122</td>\n",
       "      <td>5.6</td>\n",
       "      <td>2.8</td>\n",
       "      <td>4.9</td>\n",
       "      <td>2.0</td>\n",
       "      <td>Iris-virginica</td>\n",
       "    </tr>\n",
       "    <tr>\n",
       "      <th>76</th>\n",
       "      <td>77</td>\n",
       "      <td>6.8</td>\n",
       "      <td>2.8</td>\n",
       "      <td>4.8</td>\n",
       "      <td>1.4</td>\n",
       "      <td>Iris-versicolor</td>\n",
       "    </tr>\n",
       "    <tr>\n",
       "      <th>74</th>\n",
       "      <td>75</td>\n",
       "      <td>6.4</td>\n",
       "      <td>2.9</td>\n",
       "      <td>4.3</td>\n",
       "      <td>1.3</td>\n",
       "      <td>Iris-versicolor</td>\n",
       "    </tr>\n",
       "    <tr>\n",
       "      <th>120</th>\n",
       "      <td>121</td>\n",
       "      <td>6.9</td>\n",
       "      <td>3.2</td>\n",
       "      <td>5.7</td>\n",
       "      <td>2.3</td>\n",
       "      <td>Iris-virginica</td>\n",
       "    </tr>\n",
       "  </tbody>\n",
       "</table>\n",
       "</div>"
      ],
      "text/plain": [
       "      Id  SepalLengthCm  SepalWidthCm  PetalLengthCm  PetalWidthCm  \\\n",
       "25    26            5.0           3.0            1.6           0.2   \n",
       "113  114            5.7           2.5            5.0           2.0   \n",
       "18    19            5.7           3.8            1.7           0.3   \n",
       "29    30            4.7           3.2            1.6           0.2   \n",
       "70    71            5.9           3.2            4.8           1.8   \n",
       "30    31            4.8           3.1            1.6           0.2   \n",
       "121  122            5.6           2.8            4.9           2.0   \n",
       "76    77            6.8           2.8            4.8           1.4   \n",
       "74    75            6.4           2.9            4.3           1.3   \n",
       "120  121            6.9           3.2            5.7           2.3   \n",
       "\n",
       "             Species  \n",
       "25       Iris-setosa  \n",
       "113   Iris-virginica  \n",
       "18       Iris-setosa  \n",
       "29       Iris-setosa  \n",
       "70   Iris-versicolor  \n",
       "30       Iris-setosa  \n",
       "121   Iris-virginica  \n",
       "76   Iris-versicolor  \n",
       "74   Iris-versicolor  \n",
       "120   Iris-virginica  "
      ]
     },
     "execution_count": 6,
     "metadata": {},
     "output_type": "execute_result"
    }
   ],
   "source": [
    "# Fetching 10 records at random from the dataset\n",
    "\n",
    "iris_d.sample(10)"
   ]
  },
  {
   "cell_type": "code",
   "execution_count": 7,
   "metadata": {
    "execution": {
     "iopub.execute_input": "2021-03-04T15:11:43.265398Z",
     "iopub.status.busy": "2021-03-04T15:11:43.264481Z",
     "iopub.status.idle": "2021-03-04T15:11:43.268265Z",
     "shell.execute_reply": "2021-03-04T15:11:43.268879Z"
    },
    "papermill": {
     "duration": 0.059539,
     "end_time": "2021-03-04T15:11:43.269080",
     "exception": false,
     "start_time": "2021-03-04T15:11:43.209541",
     "status": "completed"
    },
    "tags": []
   },
   "outputs": [
    {
     "name": "stdout",
     "output_type": "stream",
     "text": [
      "<class 'pandas.core.frame.DataFrame'>\n",
      "RangeIndex: 150 entries, 0 to 149\n",
      "Data columns (total 6 columns):\n",
      " #   Column         Non-Null Count  Dtype  \n",
      "---  ------         --------------  -----  \n",
      " 0   Id             150 non-null    int64  \n",
      " 1   SepalLengthCm  150 non-null    float64\n",
      " 2   SepalWidthCm   150 non-null    float64\n",
      " 3   PetalLengthCm  150 non-null    float64\n",
      " 4   PetalWidthCm   150 non-null    float64\n",
      " 5   Species        150 non-null    object \n",
      "dtypes: float64(4), int64(1), object(1)\n",
      "memory usage: 7.2+ KB\n"
     ]
    }
   ],
   "source": [
    "# Data type of columns\n",
    "\n",
    "iris_d.info()"
   ]
  },
  {
   "cell_type": "code",
   "execution_count": 8,
   "metadata": {
    "execution": {
     "iopub.execute_input": "2021-03-04T15:11:43.349635Z",
     "iopub.status.busy": "2021-03-04T15:11:43.348966Z",
     "iopub.status.idle": "2021-03-04T15:11:43.353452Z",
     "shell.execute_reply": "2021-03-04T15:11:43.353945Z"
    },
    "papermill": {
     "duration": 0.047217,
     "end_time": "2021-03-04T15:11:43.354116",
     "exception": false,
     "start_time": "2021-03-04T15:11:43.306899",
     "status": "completed"
    },
    "tags": []
   },
   "outputs": [
    {
     "data": {
      "text/plain": [
       "(150, 6)"
      ]
     },
     "execution_count": 8,
     "metadata": {},
     "output_type": "execute_result"
    }
   ],
   "source": [
    "# Shape of Data\n",
    "\n",
    "iris_d.shape"
   ]
  },
  {
   "cell_type": "code",
   "execution_count": 9,
   "metadata": {
    "execution": {
     "iopub.execute_input": "2021-03-04T15:11:43.429795Z",
     "iopub.status.busy": "2021-03-04T15:11:43.427605Z",
     "iopub.status.idle": "2021-03-04T15:11:43.433788Z",
     "shell.execute_reply": "2021-03-04T15:11:43.433219Z"
    },
    "papermill": {
     "duration": 0.045877,
     "end_time": "2021-03-04T15:11:43.433938",
     "exception": false,
     "start_time": "2021-03-04T15:11:43.388061",
     "status": "completed"
    },
    "tags": []
   },
   "outputs": [
    {
     "data": {
      "text/plain": [
       "Id               0\n",
       "SepalLengthCm    0\n",
       "SepalWidthCm     0\n",
       "PetalLengthCm    0\n",
       "PetalWidthCm     0\n",
       "Species          0\n",
       "dtype: int64"
      ]
     },
     "execution_count": 9,
     "metadata": {},
     "output_type": "execute_result"
    }
   ],
   "source": [
    "# Identifying Null values\n",
    "\n",
    "iris_d.isnull().sum()"
   ]
  },
  {
   "cell_type": "code",
   "execution_count": 10,
   "metadata": {
    "execution": {
     "iopub.execute_input": "2021-03-04T15:11:43.513439Z",
     "iopub.status.busy": "2021-03-04T15:11:43.512350Z",
     "iopub.status.idle": "2021-03-04T15:11:43.537764Z",
     "shell.execute_reply": "2021-03-04T15:11:43.538270Z"
    },
    "papermill": {
     "duration": 0.06986,
     "end_time": "2021-03-04T15:11:43.538496",
     "exception": false,
     "start_time": "2021-03-04T15:11:43.468636",
     "status": "completed"
    },
    "tags": []
   },
   "outputs": [
    {
     "data": {
      "text/html": [
       "<div>\n",
       "<style scoped>\n",
       "    .dataframe tbody tr th:only-of-type {\n",
       "        vertical-align: middle;\n",
       "    }\n",
       "\n",
       "    .dataframe tbody tr th {\n",
       "        vertical-align: top;\n",
       "    }\n",
       "\n",
       "    .dataframe thead th {\n",
       "        text-align: right;\n",
       "    }\n",
       "</style>\n",
       "<table border=\"1\" class=\"dataframe\">\n",
       "  <thead>\n",
       "    <tr style=\"text-align: right;\">\n",
       "      <th></th>\n",
       "      <th>Id</th>\n",
       "      <th>SepalLengthCm</th>\n",
       "      <th>SepalWidthCm</th>\n",
       "      <th>PetalLengthCm</th>\n",
       "      <th>PetalWidthCm</th>\n",
       "    </tr>\n",
       "  </thead>\n",
       "  <tbody>\n",
       "    <tr>\n",
       "      <th>count</th>\n",
       "      <td>150.000000</td>\n",
       "      <td>150.000000</td>\n",
       "      <td>150.000000</td>\n",
       "      <td>150.000000</td>\n",
       "      <td>150.000000</td>\n",
       "    </tr>\n",
       "    <tr>\n",
       "      <th>mean</th>\n",
       "      <td>75.500000</td>\n",
       "      <td>5.843333</td>\n",
       "      <td>3.054000</td>\n",
       "      <td>3.758667</td>\n",
       "      <td>1.198667</td>\n",
       "    </tr>\n",
       "    <tr>\n",
       "      <th>std</th>\n",
       "      <td>43.445368</td>\n",
       "      <td>0.828066</td>\n",
       "      <td>0.433594</td>\n",
       "      <td>1.764420</td>\n",
       "      <td>0.763161</td>\n",
       "    </tr>\n",
       "    <tr>\n",
       "      <th>min</th>\n",
       "      <td>1.000000</td>\n",
       "      <td>4.300000</td>\n",
       "      <td>2.000000</td>\n",
       "      <td>1.000000</td>\n",
       "      <td>0.100000</td>\n",
       "    </tr>\n",
       "    <tr>\n",
       "      <th>25%</th>\n",
       "      <td>38.250000</td>\n",
       "      <td>5.100000</td>\n",
       "      <td>2.800000</td>\n",
       "      <td>1.600000</td>\n",
       "      <td>0.300000</td>\n",
       "    </tr>\n",
       "    <tr>\n",
       "      <th>50%</th>\n",
       "      <td>75.500000</td>\n",
       "      <td>5.800000</td>\n",
       "      <td>3.000000</td>\n",
       "      <td>4.350000</td>\n",
       "      <td>1.300000</td>\n",
       "    </tr>\n",
       "    <tr>\n",
       "      <th>75%</th>\n",
       "      <td>112.750000</td>\n",
       "      <td>6.400000</td>\n",
       "      <td>3.300000</td>\n",
       "      <td>5.100000</td>\n",
       "      <td>1.800000</td>\n",
       "    </tr>\n",
       "    <tr>\n",
       "      <th>max</th>\n",
       "      <td>150.000000</td>\n",
       "      <td>7.900000</td>\n",
       "      <td>4.400000</td>\n",
       "      <td>6.900000</td>\n",
       "      <td>2.500000</td>\n",
       "    </tr>\n",
       "  </tbody>\n",
       "</table>\n",
       "</div>"
      ],
      "text/plain": [
       "               Id  SepalLengthCm  SepalWidthCm  PetalLengthCm  PetalWidthCm\n",
       "count  150.000000     150.000000    150.000000     150.000000    150.000000\n",
       "mean    75.500000       5.843333      3.054000       3.758667      1.198667\n",
       "std     43.445368       0.828066      0.433594       1.764420      0.763161\n",
       "min      1.000000       4.300000      2.000000       1.000000      0.100000\n",
       "25%     38.250000       5.100000      2.800000       1.600000      0.300000\n",
       "50%     75.500000       5.800000      3.000000       4.350000      1.300000\n",
       "75%    112.750000       6.400000      3.300000       5.100000      1.800000\n",
       "max    150.000000       7.900000      4.400000       6.900000      2.500000"
      ]
     },
     "execution_count": 10,
     "metadata": {},
     "output_type": "execute_result"
    }
   ],
   "source": [
    "# understanding the mathematics of the datasets\n",
    "\n",
    "iris_d.describe()"
   ]
  },
  {
   "cell_type": "code",
   "execution_count": 11,
   "metadata": {
    "execution": {
     "iopub.execute_input": "2021-03-04T15:11:43.619358Z",
     "iopub.status.busy": "2021-03-04T15:11:43.618705Z",
     "iopub.status.idle": "2021-03-04T15:11:43.623020Z",
     "shell.execute_reply": "2021-03-04T15:11:43.622339Z"
    },
    "papermill": {
     "duration": 0.046012,
     "end_time": "2021-03-04T15:11:43.623159",
     "exception": false,
     "start_time": "2021-03-04T15:11:43.577147",
     "status": "completed"
    },
    "tags": []
   },
   "outputs": [
    {
     "data": {
      "text/plain": [
       "Iris-virginica     50\n",
       "Iris-setosa        50\n",
       "Iris-versicolor    50\n",
       "Name: Species, dtype: int64"
      ]
     },
     "execution_count": 11,
     "metadata": {},
     "output_type": "execute_result"
    }
   ],
   "source": [
    "iris_d['Species'].value_counts()"
   ]
  },
  {
   "cell_type": "markdown",
   "metadata": {
    "papermill": {
     "duration": 0.035285,
     "end_time": "2021-03-04T15:11:43.694343",
     "exception": false,
     "start_time": "2021-03-04T15:11:43.659058",
     "status": "completed"
    },
    "tags": []
   },
   "source": [
    "### Step 4: Exploring the data through Visualization\n",
    "#### Here, Boxplot, scatter Plot and Pair Plot is used for visual representation of the data which helps the to understand various statistical measures such as mean, median, deviation, etc. In this, the researcher has tried to explore every possible relationship between the feature variables and the target variables."
   ]
  },
  {
   "cell_type": "code",
   "execution_count": 12,
   "metadata": {
    "execution": {
     "iopub.execute_input": "2021-03-04T15:11:43.782904Z",
     "iopub.status.busy": "2021-03-04T15:11:43.782176Z",
     "iopub.status.idle": "2021-03-04T15:11:44.026627Z",
     "shell.execute_reply": "2021-03-04T15:11:44.026037Z"
    },
    "papermill": {
     "duration": 0.296805,
     "end_time": "2021-03-04T15:11:44.026795",
     "exception": false,
     "start_time": "2021-03-04T15:11:43.729990",
     "status": "completed"
    },
    "tags": []
   },
   "outputs": [
    {
     "data": {
      "image/png": "[encoded data removed]",
      "text/plain": [
       "<Figure size 720x720 with 1 Axes>"
      ]
     },
     "metadata": {
      "needs_background": "light"
     },
     "output_type": "display_data"
    }
   ],
   "source": [
    "# Box plot of price\n",
    "plt.figure(figsize= (10,10))\n",
    "# sns.boxplot(data= iris_d)\n",
    "sns.boxplot(data= iris_d,width = 0.8, fliersize = 5)\n",
    "plt.show()\n",
    "#plt.figure(figsize=(10,10))\n",
    "#sns.set(rc={'figure.figsize':(5,20)})"
   ]
  },
  {
   "cell_type": "code",
   "execution_count": 13,
   "metadata": {
    "execution": {
     "iopub.execute_input": "2021-03-04T15:11:44.139944Z",
     "iopub.status.busy": "2021-03-04T15:11:44.125518Z",
     "iopub.status.idle": "2021-03-04T15:11:44.337422Z",
     "shell.execute_reply": "2021-03-04T15:11:44.338222Z"
    },
    "papermill": {
     "duration": 0.274203,
     "end_time": "2021-03-04T15:11:44.338546",
     "exception": false,
     "start_time": "2021-03-04T15:11:44.064343",
     "status": "completed"
    },
    "tags": []
   },
   "outputs": [
    {
     "data": {
      "image/png": "[encoded data removed]",
      "text/plain": [
       "<Figure size 432x288 with 1 Axes>"
      ]
     },
     "metadata": {
      "needs_background": "light"
     },
     "output_type": "display_data"
    }
   ],
   "source": [
    "# To plot the Species data vs SepalLength using a box plot:\n",
    "\n",
    "sns.boxplot(x=\"Species\", y=\"SepalLengthCm\", data=iris_d)\n",
    "plt.show()"
   ]
  },
  {
   "cell_type": "code",
   "execution_count": 14,
   "metadata": {
    "execution": {
     "iopub.execute_input": "2021-03-04T15:11:44.439402Z",
     "iopub.status.busy": "2021-03-04T15:11:44.437845Z",
     "iopub.status.idle": "2021-03-04T15:11:44.654357Z",
     "shell.execute_reply": "2021-03-04T15:11:44.653252Z"
    },
    "papermill": {
     "duration": 0.272533,
     "end_time": "2021-03-04T15:11:44.654549",
     "exception": false,
     "start_time": "2021-03-04T15:11:44.382016",
     "status": "completed"
    },
    "tags": []
   },
   "outputs": [
    {
     "data": {
      "image/png": "[encoded data removed]",
      "text/plain": [
       "<Figure size 432x288 with 1 Axes>"
      ]
     },
     "metadata": {
      "needs_background": "light"
     },
     "output_type": "display_data"
    }
   ],
   "source": [
    "# To plot the Species data vs SepalWidth using a box plot:\n",
    "\n",
    "sns.boxplot(x=\"Species\", y=\"SepalWidthCm\", data=iris_d)\n",
    "plt.show()"
   ]
  },
  {
   "cell_type": "code",
   "execution_count": 15,
   "metadata": {
    "execution": {
     "iopub.execute_input": "2021-03-04T15:11:44.746732Z",
     "iopub.status.busy": "2021-03-04T15:11:44.745720Z",
     "iopub.status.idle": "2021-03-04T15:11:44.918876Z",
     "shell.execute_reply": "2021-03-04T15:11:44.919615Z"
    },
    "papermill": {
     "duration": 0.218596,
     "end_time": "2021-03-04T15:11:44.919800",
     "exception": false,
     "start_time": "2021-03-04T15:11:44.701204",
     "status": "completed"
    },
    "tags": []
   },
   "outputs": [
    {
     "data": {
      "image/png": "[encoded data removed]",
      "text/plain": [
       "<Figure size 432x288 with 1 Axes>"
      ]
     },
     "metadata": {
      "needs_background": "light"
     },
     "output_type": "display_data"
    }
   ],
   "source": [
    "# To plot the Species data vs PetalLength using a box plot:\n",
    "\n",
    "sns.boxplot(x=\"Species\", y=\"PetalLengthCm\", data=iris_d)\n",
    "plt.show()"
   ]
  },
  {
   "cell_type": "code",
   "execution_count": 16,
   "metadata": {
    "execution": {
     "iopub.execute_input": "2021-03-04T15:11:45.035340Z",
     "iopub.status.busy": "2021-03-04T15:11:45.034179Z",
     "iopub.status.idle": "2021-03-04T15:11:45.189203Z",
     "shell.execute_reply": "2021-03-04T15:11:45.189699Z"
    },
    "papermill": {
     "duration": 0.219977,
     "end_time": "2021-03-04T15:11:45.189883",
     "exception": false,
     "start_time": "2021-03-04T15:11:44.969906",
     "status": "completed"
    },
    "tags": []
   },
   "outputs": [
    {
     "data": {
      "image/png": "[encoded data removed]",
      "text/plain": [
       "<Figure size 432x288 with 1 Axes>"
      ]
     },
     "metadata": {
      "needs_background": "light"
     },
     "output_type": "display_data"
    }
   ],
   "source": [
    "# To plot the Species data vs PetalWidth using a box plot:\n",
    "\n",
    "sns.boxplot(x=\"Species\", y=\"PetalWidthCm\", data=iris_d)\n",
    "plt.show()"
   ]
  },
  {
   "cell_type": "code",
   "execution_count": 17,
   "metadata": {
    "execution": {
     "iopub.execute_input": "2021-03-04T15:11:45.273243Z",
     "iopub.status.busy": "2021-03-04T15:11:45.272264Z",
     "iopub.status.idle": "2021-03-04T15:11:45.735530Z",
     "shell.execute_reply": "2021-03-04T15:11:45.734872Z"
    },
    "papermill": {
     "duration": 0.505906,
     "end_time": "2021-03-04T15:11:45.735671",
     "exception": false,
     "start_time": "2021-03-04T15:11:45.229765",
     "status": "completed"
    },
    "tags": []
   },
   "outputs": [
    {
     "data": {
      "image/png": "[encoded data removed]",
      "text/plain": [
       "<Figure size 463.25x360 with 1 Axes>"
      ]
     },
     "metadata": {
      "needs_background": "light"
     },
     "output_type": "display_data"
    }
   ],
   "source": [
    "# Scatter Plot representing Species w.r.t PetalLength and PetalWidth\n",
    "\n",
    "sns.FacetGrid(iris_d, hue= \"Species\", height = 5).map(plt.scatter, \"PetalLengthCm\", \"PetalWidthCm\").add_legend()\n",
    "plt.show()"
   ]
  },
  {
   "cell_type": "code",
   "execution_count": 18,
   "metadata": {
    "execution": {
     "iopub.execute_input": "2021-03-04T15:11:45.845244Z",
     "iopub.status.busy": "2021-03-04T15:11:45.844197Z",
     "iopub.status.idle": "2021-03-04T15:11:46.297831Z",
     "shell.execute_reply": "2021-03-04T15:11:46.297151Z"
    },
    "papermill": {
     "duration": 0.519833,
     "end_time": "2021-03-04T15:11:46.297984",
     "exception": false,
     "start_time": "2021-03-04T15:11:45.778151",
     "status": "completed"
    },
    "tags": []
   },
   "outputs": [
    {
     "data": {
      "image/png": "[encoded data removed]",
      "text/plain": [
       "<Figure size 463.25x360 with 1 Axes>"
      ]
     },
     "metadata": {
      "needs_background": "light"
     },
     "output_type": "display_data"
    }
   ],
   "source": [
    "# Scatter Plot representing species w.r.t SepalLength and SepalWidth\n",
    "\n",
    "sns.FacetGrid(iris_d, hue= \"Species\", height = 5).map(plt.scatter, \n",
    "                                                      \"SepalLengthCm\", \n",
    "                                                      \"SepalWidthCm\").add_legend()\n",
    "plt.show()"
   ]
  },
  {
   "cell_type": "code",
   "execution_count": 19,
   "metadata": {
    "execution": {
     "iopub.execute_input": "2021-03-04T15:11:46.417266Z",
     "iopub.status.busy": "2021-03-04T15:11:46.416178Z",
     "iopub.status.idle": "2021-03-04T15:11:51.911997Z",
     "shell.execute_reply": "2021-03-04T15:11:51.912515Z"
    },
    "papermill": {
     "duration": 5.567496,
     "end_time": "2021-03-04T15:11:51.912692",
     "exception": false,
     "start_time": "2021-03-04T15:11:46.345196",
     "status": "completed"
    },
    "tags": []
   },
   "outputs": [
    {
     "data": {
      "image/png": "[encoded data removed]",
      "text/plain": [
       "<Figure size 1255.25x1152 with 20 Axes>"
      ]
     },
     "metadata": {
      "needs_background": "light"
     },
     "output_type": "display_data"
    }
   ],
   "source": [
    "# Pairplot representing the relationship between species w.r.t. all parameters. \n",
    "# An perceptible pattern shows a close relationship between the two. \n",
    "\n",
    "sns.pairplot(iris_d.drop(\"Id\", axis=1), hue=\"Species\", height=4)\n",
    "plt.show()"
   ]
  },
  {
   "cell_type": "markdown",
   "metadata": {
    "papermill": {
     "duration": 0.053038,
     "end_time": "2021-03-04T15:11:52.015901",
     "exception": false,
     "start_time": "2021-03-04T15:11:51.962863",
     "status": "completed"
    },
    "tags": []
   },
   "source": [
    "### The Correlation matrix"
   ]
  },
  {
   "cell_type": "markdown",
   "metadata": {
    "papermill": {
     "duration": 0.049629,
     "end_time": "2021-03-04T15:11:52.115738",
     "exception": false,
     "start_time": "2021-03-04T15:11:52.066109",
     "status": "completed"
    },
    "tags": []
   },
   "source": [
    "#### The correlation matrix represents the parameters and flower frameworks which are best correlated with each other. Here the researcher tried to find out strongest and weakest correlated pair (except the main diagonal)."
   ]
  },
  {
   "cell_type": "code",
   "execution_count": 20,
   "metadata": {
    "execution": {
     "iopub.execute_input": "2021-03-04T15:11:52.231307Z",
     "iopub.status.busy": "2021-03-04T15:11:52.230338Z",
     "iopub.status.idle": "2021-03-04T15:11:52.234762Z",
     "shell.execute_reply": "2021-03-04T15:11:52.234142Z"
    },
    "papermill": {
     "duration": 0.069387,
     "end_time": "2021-03-04T15:11:52.234916",
     "exception": false,
     "start_time": "2021-03-04T15:11:52.165529",
     "status": "completed"
    },
    "tags": []
   },
   "outputs": [
    {
     "data": {
      "text/html": [
       "<div>\n",
       "<style scoped>\n",
       "    .dataframe tbody tr th:only-of-type {\n",
       "        vertical-align: middle;\n",
       "    }\n",
       "\n",
       "    .dataframe tbody tr th {\n",
       "        vertical-align: top;\n",
       "    }\n",
       "\n",
       "    .dataframe thead th {\n",
       "        text-align: right;\n",
       "    }\n",
       "</style>\n",
       "<table border=\"1\" class=\"dataframe\">\n",
       "  <thead>\n",
       "    <tr style=\"text-align: right;\">\n",
       "      <th></th>\n",
       "      <th>Id</th>\n",
       "      <th>SepalLengthCm</th>\n",
       "      <th>SepalWidthCm</th>\n",
       "      <th>PetalLengthCm</th>\n",
       "      <th>PetalWidthCm</th>\n",
       "    </tr>\n",
       "  </thead>\n",
       "  <tbody>\n",
       "    <tr>\n",
       "      <th>Id</th>\n",
       "      <td>1.000000</td>\n",
       "      <td>0.716676</td>\n",
       "      <td>-0.397729</td>\n",
       "      <td>0.882747</td>\n",
       "      <td>0.899759</td>\n",
       "    </tr>\n",
       "    <tr>\n",
       "      <th>SepalLengthCm</th>\n",
       "      <td>0.716676</td>\n",
       "      <td>1.000000</td>\n",
       "      <td>-0.109369</td>\n",
       "      <td>0.871754</td>\n",
       "      <td>0.817954</td>\n",
       "    </tr>\n",
       "    <tr>\n",
       "      <th>SepalWidthCm</th>\n",
       "      <td>-0.397729</td>\n",
       "      <td>-0.109369</td>\n",
       "      <td>1.000000</td>\n",
       "      <td>-0.420516</td>\n",
       "      <td>-0.356544</td>\n",
       "    </tr>\n",
       "    <tr>\n",
       "      <th>PetalLengthCm</th>\n",
       "      <td>0.882747</td>\n",
       "      <td>0.871754</td>\n",
       "      <td>-0.420516</td>\n",
       "      <td>1.000000</td>\n",
       "      <td>0.962757</td>\n",
       "    </tr>\n",
       "    <tr>\n",
       "      <th>PetalWidthCm</th>\n",
       "      <td>0.899759</td>\n",
       "      <td>0.817954</td>\n",
       "      <td>-0.356544</td>\n",
       "      <td>0.962757</td>\n",
       "      <td>1.000000</td>\n",
       "    </tr>\n",
       "  </tbody>\n",
       "</table>\n",
       "</div>"
      ],
      "text/plain": [
       "                     Id  SepalLengthCm  SepalWidthCm  PetalLengthCm  \\\n",
       "Id             1.000000       0.716676     -0.397729       0.882747   \n",
       "SepalLengthCm  0.716676       1.000000     -0.109369       0.871754   \n",
       "SepalWidthCm  -0.397729      -0.109369      1.000000      -0.420516   \n",
       "PetalLengthCm  0.882747       0.871754     -0.420516       1.000000   \n",
       "PetalWidthCm   0.899759       0.817954     -0.356544       0.962757   \n",
       "\n",
       "               PetalWidthCm  \n",
       "Id                 0.899759  \n",
       "SepalLengthCm      0.817954  \n",
       "SepalWidthCm      -0.356544  \n",
       "PetalLengthCm      0.962757  \n",
       "PetalWidthCm       1.000000  "
      ]
     },
     "execution_count": 20,
     "metadata": {},
     "output_type": "execute_result"
    }
   ],
   "source": [
    "# Correlation\n",
    "\n",
    "iris_d.corr()"
   ]
  },
  {
   "cell_type": "code",
   "execution_count": 21,
   "metadata": {
    "execution": {
     "iopub.execute_input": "2021-03-04T15:11:52.341271Z",
     "iopub.status.busy": "2021-03-04T15:11:52.340608Z",
     "iopub.status.idle": "2021-03-04T15:11:52.440425Z",
     "shell.execute_reply": "2021-03-04T15:11:52.440976Z"
    },
    "papermill": {
     "duration": 0.15479,
     "end_time": "2021-03-04T15:11:52.441154",
     "exception": false,
     "start_time": "2021-03-04T15:11:52.286364",
     "status": "completed"
    },
    "tags": []
   },
   "outputs": [
    {
     "data": {
      "text/html": [
       "<style  type=\"text/css\" >\n",
       "#T_0f88e_row0_col0,#T_0f88e_row1_col1,#T_0f88e_row2_col2,#T_0f88e_row3_col3,#T_0f88e_row4_col4{\n",
       "            background-color:  #fde725;\n",
       "            color:  #000000;\n",
       "        }#T_0f88e_row0_col1{\n",
       "            background-color:  #5ac864;\n",
       "            color:  #000000;\n",
       "        }#T_0f88e_row0_col2{\n",
       "            background-color:  #46075a;\n",
       "            color:  #f1f1f1;\n",
       "        }#T_0f88e_row0_col3,#T_0f88e_row3_col0{\n",
       "            background-color:  #c8e020;\n",
       "            color:  #000000;\n",
       "        }#T_0f88e_row0_col4,#T_0f88e_row4_col0{\n",
       "            background-color:  #d0e11c;\n",
       "            color:  #000000;\n",
       "        }#T_0f88e_row1_col0{\n",
       "            background-color:  #7ad151;\n",
       "            color:  #000000;\n",
       "        }#T_0f88e_row1_col2{\n",
       "            background-color:  #3e4989;\n",
       "            color:  #f1f1f1;\n",
       "        }#T_0f88e_row1_col3{\n",
       "            background-color:  #c2df23;\n",
       "            color:  #000000;\n",
       "        }#T_0f88e_row1_col4{\n",
       "            background-color:  #a5db36;\n",
       "            color:  #000000;\n",
       "        }#T_0f88e_row2_col0,#T_0f88e_row2_col1,#T_0f88e_row2_col3,#T_0f88e_row2_col4,#T_0f88e_row3_col2{\n",
       "            background-color:  #440154;\n",
       "            color:  #f1f1f1;\n",
       "        }#T_0f88e_row3_col1{\n",
       "            background-color:  #b2dd2d;\n",
       "            color:  #000000;\n",
       "        }#T_0f88e_row3_col4{\n",
       "            background-color:  #ece51b;\n",
       "            color:  #000000;\n",
       "        }#T_0f88e_row4_col1{\n",
       "            background-color:  #90d743;\n",
       "            color:  #000000;\n",
       "        }#T_0f88e_row4_col2{\n",
       "            background-color:  #471164;\n",
       "            color:  #f1f1f1;\n",
       "        }#T_0f88e_row4_col3{\n",
       "            background-color:  #efe51c;\n",
       "            color:  #000000;\n",
       "        }</style><table id=\"T_0f88e_\" ><thead>    <tr>        <th class=\"blank level0\" ></th>        <th class=\"col_heading level0 col0\" >Id</th>        <th class=\"col_heading level0 col1\" >SepalLengthCm</th>        <th class=\"col_heading level0 col2\" >SepalWidthCm</th>        <th class=\"col_heading level0 col3\" >PetalLengthCm</th>        <th class=\"col_heading level0 col4\" >PetalWidthCm</th>    </tr></thead><tbody>\n",
       "                <tr>\n",
       "                        <th id=\"T_0f88e_level0_row0\" class=\"row_heading level0 row0\" >Id</th>\n",
       "                        <td id=\"T_0f88e_row0_col0\" class=\"data row0 col0\" >1.000000</td>\n",
       "                        <td id=\"T_0f88e_row0_col1\" class=\"data row0 col1\" >0.716676</td>\n",
       "                        <td id=\"T_0f88e_row0_col2\" class=\"data row0 col2\" >-0.397729</td>\n",
       "                        <td id=\"T_0f88e_row0_col3\" class=\"data row0 col3\" >0.882747</td>\n",
       "                        <td id=\"T_0f88e_row0_col4\" class=\"data row0 col4\" >0.899759</td>\n",
       "            </tr>\n",
       "            <tr>\n",
       "                        <th id=\"T_0f88e_level0_row1\" class=\"row_heading level0 row1\" >SepalLengthCm</th>\n",
       "                        <td id=\"T_0f88e_row1_col0\" class=\"data row1 col0\" >0.716676</td>\n",
       "                        <td id=\"T_0f88e_row1_col1\" class=\"data row1 col1\" >1.000000</td>\n",
       "                        <td id=\"T_0f88e_row1_col2\" class=\"data row1 col2\" >-0.109369</td>\n",
       "                        <td id=\"T_0f88e_row1_col3\" class=\"data row1 col3\" >0.871754</td>\n",
       "                        <td id=\"T_0f88e_row1_col4\" class=\"data row1 col4\" >0.817954</td>\n",
       "            </tr>\n",
       "            <tr>\n",
       "                        <th id=\"T_0f88e_level0_row2\" class=\"row_heading level0 row2\" >SepalWidthCm</th>\n",
       "                        <td id=\"T_0f88e_row2_col0\" class=\"data row2 col0\" >-0.397729</td>\n",
       "                        <td id=\"T_0f88e_row2_col1\" class=\"data row2 col1\" >-0.109369</td>\n",
       "                        <td id=\"T_0f88e_row2_col2\" class=\"data row2 col2\" >1.000000</td>\n",
       "                        <td id=\"T_0f88e_row2_col3\" class=\"data row2 col3\" >-0.420516</td>\n",
       "                        <td id=\"T_0f88e_row2_col4\" class=\"data row2 col4\" >-0.356544</td>\n",
       "            </tr>\n",
       "            <tr>\n",
       "                        <th id=\"T_0f88e_level0_row3\" class=\"row_heading level0 row3\" >PetalLengthCm</th>\n",
       "                        <td id=\"T_0f88e_row3_col0\" class=\"data row3 col0\" >0.882747</td>\n",
       "                        <td id=\"T_0f88e_row3_col1\" class=\"data row3 col1\" >0.871754</td>\n",
       "                        <td id=\"T_0f88e_row3_col2\" class=\"data row3 col2\" >-0.420516</td>\n",
       "                        <td id=\"T_0f88e_row3_col3\" class=\"data row3 col3\" >1.000000</td>\n",
       "                        <td id=\"T_0f88e_row3_col4\" class=\"data row3 col4\" >0.962757</td>\n",
       "            </tr>\n",
       "            <tr>\n",
       "                        <th id=\"T_0f88e_level0_row4\" class=\"row_heading level0 row4\" >PetalWidthCm</th>\n",
       "                        <td id=\"T_0f88e_row4_col0\" class=\"data row4 col0\" >0.899759</td>\n",
       "                        <td id=\"T_0f88e_row4_col1\" class=\"data row4 col1\" >0.817954</td>\n",
       "                        <td id=\"T_0f88e_row4_col2\" class=\"data row4 col2\" >-0.356544</td>\n",
       "                        <td id=\"T_0f88e_row4_col3\" class=\"data row4 col3\" >0.962757</td>\n",
       "                        <td id=\"T_0f88e_row4_col4\" class=\"data row4 col4\" >1.000000</td>\n",
       "            </tr>\n",
       "    </tbody></table>"
      ],
      "text/plain": [
       "<pandas.io.formats.style.Styler at 0x7efee44ec590>"
      ]
     },
     "execution_count": 21,
     "metadata": {},
     "output_type": "execute_result"
    }
   ],
   "source": [
    "# Vizually appealing corr matrix\n",
    "cor_iris = iris_d.corr()\n",
    "\n",
    "#cor_iris.style.background_gradient(cmap = 'coolwarm')\n",
    "cor_iris.style.background_gradient(cmap = 'viridis')"
   ]
  },
  {
   "cell_type": "code",
   "execution_count": 22,
   "metadata": {
    "execution": {
     "iopub.execute_input": "2021-03-04T15:11:52.550537Z",
     "iopub.status.busy": "2021-03-04T15:11:52.549563Z",
     "iopub.status.idle": "2021-03-04T15:11:52.811624Z",
     "shell.execute_reply": "2021-03-04T15:11:52.812161Z"
    },
    "papermill": {
     "duration": 0.319528,
     "end_time": "2021-03-04T15:11:52.812340",
     "exception": false,
     "start_time": "2021-03-04T15:11:52.492812",
     "status": "completed"
    },
    "tags": []
   },
   "outputs": [
    {
     "data": {
      "image/png": "[encoded data removed]",
      "text/plain": [
       "<Figure size 432x288 with 2 Axes>"
      ]
     },
     "metadata": {
      "needs_background": "light"
     },
     "output_type": "display_data"
    }
   ],
   "source": [
    "# Heatmap\n",
    "\n",
    "sns.heatmap(cor_iris, \n",
    "            xticklabels=cor_iris.columns.values,\n",
    "            yticklabels=cor_iris.columns.values)\n",
    "plt.show()"
   ]
  },
  {
   "cell_type": "markdown",
   "metadata": {
    "papermill": {
     "duration": 0.054772,
     "end_time": "2021-03-04T15:11:52.920344",
     "exception": false,
     "start_time": "2021-03-04T15:11:52.865572",
     "status": "completed"
    },
    "tags": []
   },
   "source": [
    "#### Conclusion:: According to the above correlation matrix, PetalLengthCm and PetalWidthCm have strongest positive correlation."
   ]
  },
  {
   "cell_type": "code",
   "execution_count": 23,
   "metadata": {
    "execution": {
     "iopub.execute_input": "2021-03-04T15:11:53.037769Z",
     "iopub.status.busy": "2021-03-04T15:11:53.037101Z",
     "iopub.status.idle": "2021-03-04T15:11:53.039553Z",
     "shell.execute_reply": "2021-03-04T15:11:53.040024Z"
    },
    "papermill": {
     "duration": 0.064662,
     "end_time": "2021-03-04T15:11:53.040209",
     "exception": false,
     "start_time": "2021-03-04T15:11:52.975547",
     "status": "completed"
    },
    "tags": []
   },
   "outputs": [],
   "source": [
    "# In order to run Naive_Bayes classifier, replace the \"Species\" values.\n",
    "\n",
    "iris_d['Species'].replace(\"Iris-setosa\",1,inplace= True)\n",
    "iris_d['Species'].replace(\"Iris-virginica\",2,inplace = True)\n",
    "iris_d['Species'].replace(\"Iris-versicolor\",3,inplace=True)"
   ]
  },
  {
   "cell_type": "code",
   "execution_count": 24,
   "metadata": {
    "execution": {
     "iopub.execute_input": "2021-03-04T15:11:53.149404Z",
     "iopub.status.busy": "2021-03-04T15:11:53.148734Z",
     "iopub.status.idle": "2021-03-04T15:11:53.156822Z",
     "shell.execute_reply": "2021-03-04T15:11:53.156260Z"
    },
    "papermill": {
     "duration": 0.063165,
     "end_time": "2021-03-04T15:11:53.156962",
     "exception": false,
     "start_time": "2021-03-04T15:11:53.093797",
     "status": "completed"
    },
    "tags": []
   },
   "outputs": [
    {
     "data": {
      "text/plain": [
       "array([1, 3, 2])"
      ]
     },
     "execution_count": 24,
     "metadata": {},
     "output_type": "execute_result"
    }
   ],
   "source": [
    "# Checking the Species values \n",
    "\n",
    "iris_d['Species'].unique()"
   ]
  },
  {
   "cell_type": "markdown",
   "metadata": {
    "papermill": {
     "duration": 0.052184,
     "end_time": "2021-03-04T15:11:53.261860",
     "exception": false,
     "start_time": "2021-03-04T15:11:53.209676",
     "status": "completed"
    },
    "tags": []
   },
   "source": [
    "### Step 5: Splitting the data into Train Data and Test Data\n",
    "#### For this step, firstly separate the 'Feature' and 'Target'variable from the data."
   ]
  },
  {
   "cell_type": "code",
   "execution_count": 25,
   "metadata": {
    "execution": {
     "iopub.execute_input": "2021-03-04T15:11:53.371282Z",
     "iopub.status.busy": "2021-03-04T15:11:53.370640Z",
     "iopub.status.idle": "2021-03-04T15:11:53.376301Z",
     "shell.execute_reply": "2021-03-04T15:11:53.375772Z"
    },
    "papermill": {
     "duration": 0.061631,
     "end_time": "2021-03-04T15:11:53.376452",
     "exception": false,
     "start_time": "2021-03-04T15:11:53.314821",
     "status": "completed"
    },
    "tags": []
   },
   "outputs": [],
   "source": [
    "feature = iris_d.iloc[:, 0:4]\n",
    "target = iris_d['Species']\n",
    "\n",
    "# X = dataframe.iloc[:, 0:4]  \n",
    "# Y = dataframe['Species']"
   ]
  },
  {
   "cell_type": "code",
   "execution_count": 26,
   "metadata": {
    "execution": {
     "iopub.execute_input": "2021-03-04T15:11:53.492302Z",
     "iopub.status.busy": "2021-03-04T15:11:53.491210Z",
     "iopub.status.idle": "2021-03-04T15:11:53.494986Z",
     "shell.execute_reply": "2021-03-04T15:11:53.496534Z"
    },
    "papermill": {
     "duration": 0.067069,
     "end_time": "2021-03-04T15:11:53.496867",
     "exception": false,
     "start_time": "2021-03-04T15:11:53.429798",
     "status": "completed"
    },
    "tags": []
   },
   "outputs": [
    {
     "name": "stdout",
     "output_type": "stream",
     "text": [
      "X-Train : (90, 4)\n",
      "X-Test : (60, 4)\n",
      "Y-Train : (60,)\n",
      "Y-Test : (60,)\n"
     ]
    }
   ],
   "source": [
    "# Splitting the data into Train and Test dataset\n",
    "\n",
    "X_train, X_test, y_train, y_test = train_test_split(feature, target, test_size = 0.4, \n",
    "                                                    random_state = 40)\n",
    "print(\"X-Train :\",X_train.shape)\n",
    "print(\"X-Test :\",X_test.shape)\n",
    "print(\"Y-Train :\",y_test.shape)\n",
    "print(\"Y-Test :\",y_test.shape)"
   ]
  },
  {
   "cell_type": "markdown",
   "metadata": {
    "papermill": {
     "duration": 0.05315,
     "end_time": "2021-03-04T15:11:53.606105",
     "exception": false,
     "start_time": "2021-03-04T15:11:53.552955",
     "status": "completed"
    },
    "tags": []
   },
   "source": [
    "### Step 6: Fitting the Model/ Applying the Algorithm\n",
    "\n",
    "#### Here, the researcher has used 6 different model/algorithm to find out the best fit.\n",
    "\n",
    "#### 1. K – Nearest Neighbour (KNN)"
   ]
  },
  {
   "cell_type": "code",
   "execution_count": 27,
   "metadata": {
    "execution": {
     "iopub.execute_input": "2021-03-04T15:11:53.719193Z",
     "iopub.status.busy": "2021-03-04T15:11:53.718202Z",
     "iopub.status.idle": "2021-03-04T15:11:53.737160Z",
     "shell.execute_reply": "2021-03-04T15:11:53.736583Z"
    },
    "papermill": {
     "duration": 0.076617,
     "end_time": "2021-03-04T15:11:53.737325",
     "exception": false,
     "start_time": "2021-03-04T15:11:53.660708",
     "status": "completed"
    },
    "tags": []
   },
   "outputs": [
    {
     "name": "stdout",
     "output_type": "stream",
     "text": [
      "1.0\n"
     ]
    },
    {
     "data": {
      "text/plain": [
       "array([1, 3, 2, 2, 3, 2, 3, 3, 3, 1, 3, 1, 1, 2, 3, 2, 2, 2, 3, 3, 2, 2,\n",
       "       3, 1, 3, 1, 1, 2, 1, 3, 3, 1, 1, 1, 1, 2, 1, 1, 2, 1, 1, 3, 2, 2,\n",
       "       2, 1, 2, 2, 3, 1, 2, 3, 3, 3, 1, 1, 3, 3, 2, 2])"
      ]
     },
     "execution_count": 27,
     "metadata": {},
     "output_type": "execute_result"
    }
   ],
   "source": [
    "KN_model = KNeighborsClassifier()\n",
    "KN_model.fit(X_train, y_train)\n",
    "pred_vals_KN = KN_model.predict(X_test)\n",
    "print(accuracy_score(y_test, pred_vals_KN))\n",
    "pred_vals_KN"
   ]
  },
  {
   "cell_type": "code",
   "execution_count": 28,
   "metadata": {
    "execution": {
     "iopub.execute_input": "2021-03-04T15:11:53.870924Z",
     "iopub.status.busy": "2021-03-04T15:11:53.868687Z",
     "iopub.status.idle": "2021-03-04T15:11:53.876729Z",
     "shell.execute_reply": "2021-03-04T15:11:53.876160Z"
    },
    "papermill": {
     "duration": 0.082188,
     "end_time": "2021-03-04T15:11:53.876890",
     "exception": false,
     "start_time": "2021-03-04T15:11:53.794702",
     "status": "completed"
    },
    "tags": []
   },
   "outputs": [
    {
     "data": {
      "text/html": [
       "<div>\n",
       "<style scoped>\n",
       "    .dataframe tbody tr th:only-of-type {\n",
       "        vertical-align: middle;\n",
       "    }\n",
       "\n",
       "    .dataframe tbody tr th {\n",
       "        vertical-align: top;\n",
       "    }\n",
       "\n",
       "    .dataframe thead th {\n",
       "        text-align: right;\n",
       "    }\n",
       "</style>\n",
       "<table border=\"1\" class=\"dataframe\">\n",
       "  <thead>\n",
       "    <tr style=\"text-align: right;\">\n",
       "      <th></th>\n",
       "      <th>Predicted</th>\n",
       "      <th>Actual</th>\n",
       "    </tr>\n",
       "  </thead>\n",
       "  <tbody>\n",
       "    <tr>\n",
       "      <th>0</th>\n",
       "      <td>1</td>\n",
       "      <td>NaN</td>\n",
       "    </tr>\n",
       "    <tr>\n",
       "      <th>1</th>\n",
       "      <td>3</td>\n",
       "      <td>NaN</td>\n",
       "    </tr>\n",
       "    <tr>\n",
       "      <th>2</th>\n",
       "      <td>2</td>\n",
       "      <td>1.0</td>\n",
       "    </tr>\n",
       "    <tr>\n",
       "      <th>3</th>\n",
       "      <td>2</td>\n",
       "      <td>1.0</td>\n",
       "    </tr>\n",
       "    <tr>\n",
       "      <th>4</th>\n",
       "      <td>3</td>\n",
       "      <td>NaN</td>\n",
       "    </tr>\n",
       "    <tr>\n",
       "      <th>5</th>\n",
       "      <td>2</td>\n",
       "      <td>NaN</td>\n",
       "    </tr>\n",
       "    <tr>\n",
       "      <th>6</th>\n",
       "      <td>3</td>\n",
       "      <td>1.0</td>\n",
       "    </tr>\n",
       "    <tr>\n",
       "      <th>7</th>\n",
       "      <td>3</td>\n",
       "      <td>NaN</td>\n",
       "    </tr>\n",
       "    <tr>\n",
       "      <th>8</th>\n",
       "      <td>3</td>\n",
       "      <td>NaN</td>\n",
       "    </tr>\n",
       "    <tr>\n",
       "      <th>9</th>\n",
       "      <td>1</td>\n",
       "      <td>1.0</td>\n",
       "    </tr>\n",
       "    <tr>\n",
       "      <th>10</th>\n",
       "      <td>3</td>\n",
       "      <td>NaN</td>\n",
       "    </tr>\n",
       "    <tr>\n",
       "      <th>11</th>\n",
       "      <td>1</td>\n",
       "      <td>1.0</td>\n",
       "    </tr>\n",
       "    <tr>\n",
       "      <th>12</th>\n",
       "      <td>1</td>\n",
       "      <td>NaN</td>\n",
       "    </tr>\n",
       "    <tr>\n",
       "      <th>13</th>\n",
       "      <td>2</td>\n",
       "      <td>1.0</td>\n",
       "    </tr>\n",
       "    <tr>\n",
       "      <th>14</th>\n",
       "      <td>3</td>\n",
       "      <td>NaN</td>\n",
       "    </tr>\n",
       "    <tr>\n",
       "      <th>15</th>\n",
       "      <td>2</td>\n",
       "      <td>1.0</td>\n",
       "    </tr>\n",
       "    <tr>\n",
       "      <th>16</th>\n",
       "      <td>2</td>\n",
       "      <td>1.0</td>\n",
       "    </tr>\n",
       "    <tr>\n",
       "      <th>17</th>\n",
       "      <td>2</td>\n",
       "      <td>1.0</td>\n",
       "    </tr>\n",
       "    <tr>\n",
       "      <th>18</th>\n",
       "      <td>3</td>\n",
       "      <td>1.0</td>\n",
       "    </tr>\n",
       "    <tr>\n",
       "      <th>19</th>\n",
       "      <td>3</td>\n",
       "      <td>NaN</td>\n",
       "    </tr>\n",
       "    <tr>\n",
       "      <th>20</th>\n",
       "      <td>2</td>\n",
       "      <td>NaN</td>\n",
       "    </tr>\n",
       "    <tr>\n",
       "      <th>21</th>\n",
       "      <td>2</td>\n",
       "      <td>NaN</td>\n",
       "    </tr>\n",
       "    <tr>\n",
       "      <th>22</th>\n",
       "      <td>3</td>\n",
       "      <td>NaN</td>\n",
       "    </tr>\n",
       "    <tr>\n",
       "      <th>23</th>\n",
       "      <td>1</td>\n",
       "      <td>1.0</td>\n",
       "    </tr>\n",
       "    <tr>\n",
       "      <th>24</th>\n",
       "      <td>3</td>\n",
       "      <td>1.0</td>\n",
       "    </tr>\n",
       "    <tr>\n",
       "      <th>25</th>\n",
       "      <td>1</td>\n",
       "      <td>NaN</td>\n",
       "    </tr>\n",
       "    <tr>\n",
       "      <th>26</th>\n",
       "      <td>1</td>\n",
       "      <td>1.0</td>\n",
       "    </tr>\n",
       "    <tr>\n",
       "      <th>27</th>\n",
       "      <td>2</td>\n",
       "      <td>NaN</td>\n",
       "    </tr>\n",
       "    <tr>\n",
       "      <th>28</th>\n",
       "      <td>1</td>\n",
       "      <td>1.0</td>\n",
       "    </tr>\n",
       "    <tr>\n",
       "      <th>29</th>\n",
       "      <td>3</td>\n",
       "      <td>NaN</td>\n",
       "    </tr>\n",
       "    <tr>\n",
       "      <th>30</th>\n",
       "      <td>3</td>\n",
       "      <td>NaN</td>\n",
       "    </tr>\n",
       "    <tr>\n",
       "      <th>31</th>\n",
       "      <td>1</td>\n",
       "      <td>NaN</td>\n",
       "    </tr>\n",
       "    <tr>\n",
       "      <th>32</th>\n",
       "      <td>1</td>\n",
       "      <td>NaN</td>\n",
       "    </tr>\n",
       "    <tr>\n",
       "      <th>33</th>\n",
       "      <td>1</td>\n",
       "      <td>NaN</td>\n",
       "    </tr>\n",
       "    <tr>\n",
       "      <th>34</th>\n",
       "      <td>1</td>\n",
       "      <td>NaN</td>\n",
       "    </tr>\n",
       "    <tr>\n",
       "      <th>35</th>\n",
       "      <td>2</td>\n",
       "      <td>NaN</td>\n",
       "    </tr>\n",
       "    <tr>\n",
       "      <th>36</th>\n",
       "      <td>1</td>\n",
       "      <td>NaN</td>\n",
       "    </tr>\n",
       "    <tr>\n",
       "      <th>37</th>\n",
       "      <td>1</td>\n",
       "      <td>1.0</td>\n",
       "    </tr>\n",
       "    <tr>\n",
       "      <th>38</th>\n",
       "      <td>2</td>\n",
       "      <td>1.0</td>\n",
       "    </tr>\n",
       "    <tr>\n",
       "      <th>39</th>\n",
       "      <td>1</td>\n",
       "      <td>1.0</td>\n",
       "    </tr>\n",
       "    <tr>\n",
       "      <th>40</th>\n",
       "      <td>1</td>\n",
       "      <td>1.0</td>\n",
       "    </tr>\n",
       "    <tr>\n",
       "      <th>41</th>\n",
       "      <td>3</td>\n",
       "      <td>NaN</td>\n",
       "    </tr>\n",
       "    <tr>\n",
       "      <th>42</th>\n",
       "      <td>2</td>\n",
       "      <td>1.0</td>\n",
       "    </tr>\n",
       "    <tr>\n",
       "      <th>43</th>\n",
       "      <td>2</td>\n",
       "      <td>NaN</td>\n",
       "    </tr>\n",
       "    <tr>\n",
       "      <th>44</th>\n",
       "      <td>2</td>\n",
       "      <td>NaN</td>\n",
       "    </tr>\n",
       "    <tr>\n",
       "      <th>45</th>\n",
       "      <td>1</td>\n",
       "      <td>NaN</td>\n",
       "    </tr>\n",
       "    <tr>\n",
       "      <th>46</th>\n",
       "      <td>2</td>\n",
       "      <td>NaN</td>\n",
       "    </tr>\n",
       "    <tr>\n",
       "      <th>47</th>\n",
       "      <td>2</td>\n",
       "      <td>NaN</td>\n",
       "    </tr>\n",
       "    <tr>\n",
       "      <th>48</th>\n",
       "      <td>3</td>\n",
       "      <td>1.0</td>\n",
       "    </tr>\n",
       "    <tr>\n",
       "      <th>49</th>\n",
       "      <td>1</td>\n",
       "      <td>NaN</td>\n",
       "    </tr>\n",
       "    <tr>\n",
       "      <th>50</th>\n",
       "      <td>2</td>\n",
       "      <td>NaN</td>\n",
       "    </tr>\n",
       "    <tr>\n",
       "      <th>51</th>\n",
       "      <td>3</td>\n",
       "      <td>NaN</td>\n",
       "    </tr>\n",
       "    <tr>\n",
       "      <th>52</th>\n",
       "      <td>3</td>\n",
       "      <td>NaN</td>\n",
       "    </tr>\n",
       "    <tr>\n",
       "      <th>53</th>\n",
       "      <td>3</td>\n",
       "      <td>3.0</td>\n",
       "    </tr>\n",
       "    <tr>\n",
       "      <th>54</th>\n",
       "      <td>1</td>\n",
       "      <td>3.0</td>\n",
       "    </tr>\n",
       "    <tr>\n",
       "      <th>55</th>\n",
       "      <td>1</td>\n",
       "      <td>NaN</td>\n",
       "    </tr>\n",
       "    <tr>\n",
       "      <th>56</th>\n",
       "      <td>3</td>\n",
       "      <td>NaN</td>\n",
       "    </tr>\n",
       "    <tr>\n",
       "      <th>57</th>\n",
       "      <td>3</td>\n",
       "      <td>NaN</td>\n",
       "    </tr>\n",
       "    <tr>\n",
       "      <th>58</th>\n",
       "      <td>2</td>\n",
       "      <td>NaN</td>\n",
       "    </tr>\n",
       "    <tr>\n",
       "      <th>59</th>\n",
       "      <td>2</td>\n",
       "      <td>3.0</td>\n",
       "    </tr>\n",
       "  </tbody>\n",
       "</table>\n",
       "</div>"
      ],
      "text/plain": [
       "    Predicted  Actual\n",
       "0           1     NaN\n",
       "1           3     NaN\n",
       "2           2     1.0\n",
       "3           2     1.0\n",
       "4           3     NaN\n",
       "5           2     NaN\n",
       "6           3     1.0\n",
       "7           3     NaN\n",
       "8           3     NaN\n",
       "9           1     1.0\n",
       "10          3     NaN\n",
       "11          1     1.0\n",
       "12          1     NaN\n",
       "13          2     1.0\n",
       "14          3     NaN\n",
       "15          2     1.0\n",
       "16          2     1.0\n",
       "17          2     1.0\n",
       "18          3     1.0\n",
       "19          3     NaN\n",
       "20          2     NaN\n",
       "21          2     NaN\n",
       "22          3     NaN\n",
       "23          1     1.0\n",
       "24          3     1.0\n",
       "25          1     NaN\n",
       "26          1     1.0\n",
       "27          2     NaN\n",
       "28          1     1.0\n",
       "29          3     NaN\n",
       "30          3     NaN\n",
       "31          1     NaN\n",
       "32          1     NaN\n",
       "33          1     NaN\n",
       "34          1     NaN\n",
       "35          2     NaN\n",
       "36          1     NaN\n",
       "37          1     1.0\n",
       "38          2     1.0\n",
       "39          1     1.0\n",
       "40          1     1.0\n",
       "41          3     NaN\n",
       "42          2     1.0\n",
       "43          2     NaN\n",
       "44          2     NaN\n",
       "45          1     NaN\n",
       "46          2     NaN\n",
       "47          2     NaN\n",
       "48          3     1.0\n",
       "49          1     NaN\n",
       "50          2     NaN\n",
       "51          3     NaN\n",
       "52          3     NaN\n",
       "53          3     3.0\n",
       "54          1     3.0\n",
       "55          1     NaN\n",
       "56          3     NaN\n",
       "57          3     NaN\n",
       "58          2     NaN\n",
       "59          2     3.0"
      ]
     },
     "execution_count": 28,
     "metadata": {},
     "output_type": "execute_result"
    }
   ],
   "source": [
    "# This dataframe gives the Actual vs Predicted values\n",
    "\n",
    "dfIris_d = pd.DataFrame(pred_vals_KN, index = range(60,), columns = ['Predicted'])\n",
    "dfIris_d['Actual'] = y_test\n",
    "dfIris_d   "
   ]
  },
  {
   "cell_type": "markdown",
   "metadata": {
    "papermill": {
     "duration": 0.055718,
     "end_time": "2021-03-04T15:11:53.989620",
     "exception": false,
     "start_time": "2021-03-04T15:11:53.933902",
     "status": "completed"
    },
    "tags": []
   },
   "source": [
    "### Evaluating the Performance of the Model"
   ]
  },
  {
   "cell_type": "code",
   "execution_count": 29,
   "metadata": {
    "execution": {
     "iopub.execute_input": "2021-03-04T15:11:54.110269Z",
     "iopub.status.busy": "2021-03-04T15:11:54.109578Z",
     "iopub.status.idle": "2021-03-04T15:11:54.114096Z",
     "shell.execute_reply": "2021-03-04T15:11:54.112948Z"
    },
    "papermill": {
     "duration": 0.069059,
     "end_time": "2021-03-04T15:11:54.114284",
     "exception": false,
     "start_time": "2021-03-04T15:11:54.045225",
     "status": "completed"
    },
    "tags": []
   },
   "outputs": [
    {
     "name": "stdout",
     "output_type": "stream",
     "text": [
      "Mean Absolute Error = 0.0\n",
      "Mean Squared Error=  0.0\n",
      "Root Mean Squared Error=  0.0\n"
     ]
    }
   ],
   "source": [
    "print('Mean Absolute Error =', mean_absolute_error(y_test, pred_vals_KN))\n",
    "print(\"Mean Squared Error= \", mean_squared_error(y_test, pred_vals_KN))\n",
    "print(\"Root Mean Squared Error= \", np.sqrt(mean_squared_error(y_test, pred_vals_KN)))"
   ]
  },
  {
   "cell_type": "markdown",
   "metadata": {
    "papermill": {
     "duration": 0.055849,
     "end_time": "2021-03-04T15:11:54.226931",
     "exception": false,
     "start_time": "2021-03-04T15:11:54.171082",
     "status": "completed"
    },
    "tags": []
   },
   "source": [
    "### 2. Support Vector Machine (SVM)"
   ]
  },
  {
   "cell_type": "code",
   "execution_count": 30,
   "metadata": {
    "execution": {
     "iopub.execute_input": "2021-03-04T15:11:54.341761Z",
     "iopub.status.busy": "2021-03-04T15:11:54.341105Z",
     "iopub.status.idle": "2021-03-04T15:11:54.354695Z",
     "shell.execute_reply": "2021-03-04T15:11:54.355201Z"
    },
    "papermill": {
     "duration": 0.072815,
     "end_time": "2021-03-04T15:11:54.355375",
     "exception": false,
     "start_time": "2021-03-04T15:11:54.282560",
     "status": "completed"
    },
    "tags": []
   },
   "outputs": [
    {
     "name": "stdout",
     "output_type": "stream",
     "text": [
      "0.9833333333333333\n"
     ]
    },
    {
     "data": {
      "text/plain": [
       "array([1, 3, 2, 2, 3, 2, 3, 3, 3, 1, 3, 1, 1, 2, 3, 2, 2, 2, 3, 3, 2, 2,\n",
       "       3, 1, 3, 1, 1, 2, 1, 3, 3, 1, 1, 1, 1, 2, 1, 1, 2, 1, 1, 3, 2, 2,\n",
       "       2, 1, 2, 2, 3, 1, 3, 3, 3, 3, 1, 1, 3, 3, 2, 2])"
      ]
     },
     "execution_count": 30,
     "metadata": {},
     "output_type": "execute_result"
    }
   ],
   "source": [
    "Support_vm = SVC()\n",
    "Support_vm.fit(X_train, y_train)\n",
    "pred_vals_SVC = Support_vm.predict(X_test)\n",
    "print(accuracy_score(y_test, pred_vals_SVC))\n",
    "pred_vals_SVC"
   ]
  },
  {
   "cell_type": "code",
   "execution_count": 31,
   "metadata": {
    "execution": {
     "iopub.execute_input": "2021-03-04T15:11:54.473402Z",
     "iopub.status.busy": "2021-03-04T15:11:54.472754Z",
     "iopub.status.idle": "2021-03-04T15:11:54.496676Z",
     "shell.execute_reply": "2021-03-04T15:11:54.496078Z"
    },
    "papermill": {
     "duration": 0.084588,
     "end_time": "2021-03-04T15:11:54.496838",
     "exception": false,
     "start_time": "2021-03-04T15:11:54.412250",
     "status": "completed"
    },
    "tags": []
   },
   "outputs": [
    {
     "data": {
      "text/html": [
       "<div>\n",
       "<style scoped>\n",
       "    .dataframe tbody tr th:only-of-type {\n",
       "        vertical-align: middle;\n",
       "    }\n",
       "\n",
       "    .dataframe tbody tr th {\n",
       "        vertical-align: top;\n",
       "    }\n",
       "\n",
       "    .dataframe thead th {\n",
       "        text-align: right;\n",
       "    }\n",
       "</style>\n",
       "<table border=\"1\" class=\"dataframe\">\n",
       "  <thead>\n",
       "    <tr style=\"text-align: right;\">\n",
       "      <th></th>\n",
       "      <th>Predicted</th>\n",
       "      <th>Actual</th>\n",
       "    </tr>\n",
       "  </thead>\n",
       "  <tbody>\n",
       "    <tr>\n",
       "      <th>0</th>\n",
       "      <td>1</td>\n",
       "      <td>NaN</td>\n",
       "    </tr>\n",
       "    <tr>\n",
       "      <th>1</th>\n",
       "      <td>3</td>\n",
       "      <td>NaN</td>\n",
       "    </tr>\n",
       "    <tr>\n",
       "      <th>2</th>\n",
       "      <td>2</td>\n",
       "      <td>1.0</td>\n",
       "    </tr>\n",
       "    <tr>\n",
       "      <th>3</th>\n",
       "      <td>2</td>\n",
       "      <td>1.0</td>\n",
       "    </tr>\n",
       "    <tr>\n",
       "      <th>4</th>\n",
       "      <td>3</td>\n",
       "      <td>NaN</td>\n",
       "    </tr>\n",
       "    <tr>\n",
       "      <th>5</th>\n",
       "      <td>2</td>\n",
       "      <td>NaN</td>\n",
       "    </tr>\n",
       "    <tr>\n",
       "      <th>6</th>\n",
       "      <td>3</td>\n",
       "      <td>1.0</td>\n",
       "    </tr>\n",
       "    <tr>\n",
       "      <th>7</th>\n",
       "      <td>3</td>\n",
       "      <td>NaN</td>\n",
       "    </tr>\n",
       "    <tr>\n",
       "      <th>8</th>\n",
       "      <td>3</td>\n",
       "      <td>NaN</td>\n",
       "    </tr>\n",
       "    <tr>\n",
       "      <th>9</th>\n",
       "      <td>1</td>\n",
       "      <td>1.0</td>\n",
       "    </tr>\n",
       "    <tr>\n",
       "      <th>10</th>\n",
       "      <td>3</td>\n",
       "      <td>NaN</td>\n",
       "    </tr>\n",
       "    <tr>\n",
       "      <th>11</th>\n",
       "      <td>1</td>\n",
       "      <td>1.0</td>\n",
       "    </tr>\n",
       "    <tr>\n",
       "      <th>12</th>\n",
       "      <td>1</td>\n",
       "      <td>NaN</td>\n",
       "    </tr>\n",
       "    <tr>\n",
       "      <th>13</th>\n",
       "      <td>2</td>\n",
       "      <td>1.0</td>\n",
       "    </tr>\n",
       "    <tr>\n",
       "      <th>14</th>\n",
       "      <td>3</td>\n",
       "      <td>NaN</td>\n",
       "    </tr>\n",
       "    <tr>\n",
       "      <th>15</th>\n",
       "      <td>2</td>\n",
       "      <td>1.0</td>\n",
       "    </tr>\n",
       "    <tr>\n",
       "      <th>16</th>\n",
       "      <td>2</td>\n",
       "      <td>1.0</td>\n",
       "    </tr>\n",
       "    <tr>\n",
       "      <th>17</th>\n",
       "      <td>2</td>\n",
       "      <td>1.0</td>\n",
       "    </tr>\n",
       "    <tr>\n",
       "      <th>18</th>\n",
       "      <td>3</td>\n",
       "      <td>1.0</td>\n",
       "    </tr>\n",
       "    <tr>\n",
       "      <th>19</th>\n",
       "      <td>3</td>\n",
       "      <td>NaN</td>\n",
       "    </tr>\n",
       "    <tr>\n",
       "      <th>20</th>\n",
       "      <td>2</td>\n",
       "      <td>NaN</td>\n",
       "    </tr>\n",
       "    <tr>\n",
       "      <th>21</th>\n",
       "      <td>2</td>\n",
       "      <td>NaN</td>\n",
       "    </tr>\n",
       "    <tr>\n",
       "      <th>22</th>\n",
       "      <td>3</td>\n",
       "      <td>NaN</td>\n",
       "    </tr>\n",
       "    <tr>\n",
       "      <th>23</th>\n",
       "      <td>1</td>\n",
       "      <td>1.0</td>\n",
       "    </tr>\n",
       "    <tr>\n",
       "      <th>24</th>\n",
       "      <td>3</td>\n",
       "      <td>1.0</td>\n",
       "    </tr>\n",
       "    <tr>\n",
       "      <th>25</th>\n",
       "      <td>1</td>\n",
       "      <td>NaN</td>\n",
       "    </tr>\n",
       "    <tr>\n",
       "      <th>26</th>\n",
       "      <td>1</td>\n",
       "      <td>1.0</td>\n",
       "    </tr>\n",
       "    <tr>\n",
       "      <th>27</th>\n",
       "      <td>2</td>\n",
       "      <td>NaN</td>\n",
       "    </tr>\n",
       "    <tr>\n",
       "      <th>28</th>\n",
       "      <td>1</td>\n",
       "      <td>1.0</td>\n",
       "    </tr>\n",
       "    <tr>\n",
       "      <th>29</th>\n",
       "      <td>3</td>\n",
       "      <td>NaN</td>\n",
       "    </tr>\n",
       "    <tr>\n",
       "      <th>30</th>\n",
       "      <td>3</td>\n",
       "      <td>NaN</td>\n",
       "    </tr>\n",
       "    <tr>\n",
       "      <th>31</th>\n",
       "      <td>1</td>\n",
       "      <td>NaN</td>\n",
       "    </tr>\n",
       "    <tr>\n",
       "      <th>32</th>\n",
       "      <td>1</td>\n",
       "      <td>NaN</td>\n",
       "    </tr>\n",
       "    <tr>\n",
       "      <th>33</th>\n",
       "      <td>1</td>\n",
       "      <td>NaN</td>\n",
       "    </tr>\n",
       "    <tr>\n",
       "      <th>34</th>\n",
       "      <td>1</td>\n",
       "      <td>NaN</td>\n",
       "    </tr>\n",
       "    <tr>\n",
       "      <th>35</th>\n",
       "      <td>2</td>\n",
       "      <td>NaN</td>\n",
       "    </tr>\n",
       "    <tr>\n",
       "      <th>36</th>\n",
       "      <td>1</td>\n",
       "      <td>NaN</td>\n",
       "    </tr>\n",
       "    <tr>\n",
       "      <th>37</th>\n",
       "      <td>1</td>\n",
       "      <td>1.0</td>\n",
       "    </tr>\n",
       "    <tr>\n",
       "      <th>38</th>\n",
       "      <td>2</td>\n",
       "      <td>1.0</td>\n",
       "    </tr>\n",
       "    <tr>\n",
       "      <th>39</th>\n",
       "      <td>1</td>\n",
       "      <td>1.0</td>\n",
       "    </tr>\n",
       "    <tr>\n",
       "      <th>40</th>\n",
       "      <td>1</td>\n",
       "      <td>1.0</td>\n",
       "    </tr>\n",
       "    <tr>\n",
       "      <th>41</th>\n",
       "      <td>3</td>\n",
       "      <td>NaN</td>\n",
       "    </tr>\n",
       "    <tr>\n",
       "      <th>42</th>\n",
       "      <td>2</td>\n",
       "      <td>1.0</td>\n",
       "    </tr>\n",
       "    <tr>\n",
       "      <th>43</th>\n",
       "      <td>2</td>\n",
       "      <td>NaN</td>\n",
       "    </tr>\n",
       "    <tr>\n",
       "      <th>44</th>\n",
       "      <td>2</td>\n",
       "      <td>NaN</td>\n",
       "    </tr>\n",
       "    <tr>\n",
       "      <th>45</th>\n",
       "      <td>1</td>\n",
       "      <td>NaN</td>\n",
       "    </tr>\n",
       "    <tr>\n",
       "      <th>46</th>\n",
       "      <td>2</td>\n",
       "      <td>NaN</td>\n",
       "    </tr>\n",
       "    <tr>\n",
       "      <th>47</th>\n",
       "      <td>2</td>\n",
       "      <td>NaN</td>\n",
       "    </tr>\n",
       "    <tr>\n",
       "      <th>48</th>\n",
       "      <td>3</td>\n",
       "      <td>1.0</td>\n",
       "    </tr>\n",
       "    <tr>\n",
       "      <th>49</th>\n",
       "      <td>1</td>\n",
       "      <td>NaN</td>\n",
       "    </tr>\n",
       "    <tr>\n",
       "      <th>50</th>\n",
       "      <td>3</td>\n",
       "      <td>NaN</td>\n",
       "    </tr>\n",
       "    <tr>\n",
       "      <th>51</th>\n",
       "      <td>3</td>\n",
       "      <td>NaN</td>\n",
       "    </tr>\n",
       "    <tr>\n",
       "      <th>52</th>\n",
       "      <td>3</td>\n",
       "      <td>NaN</td>\n",
       "    </tr>\n",
       "    <tr>\n",
       "      <th>53</th>\n",
       "      <td>3</td>\n",
       "      <td>3.0</td>\n",
       "    </tr>\n",
       "    <tr>\n",
       "      <th>54</th>\n",
       "      <td>1</td>\n",
       "      <td>3.0</td>\n",
       "    </tr>\n",
       "    <tr>\n",
       "      <th>55</th>\n",
       "      <td>1</td>\n",
       "      <td>NaN</td>\n",
       "    </tr>\n",
       "    <tr>\n",
       "      <th>56</th>\n",
       "      <td>3</td>\n",
       "      <td>NaN</td>\n",
       "    </tr>\n",
       "    <tr>\n",
       "      <th>57</th>\n",
       "      <td>3</td>\n",
       "      <td>NaN</td>\n",
       "    </tr>\n",
       "    <tr>\n",
       "      <th>58</th>\n",
       "      <td>2</td>\n",
       "      <td>NaN</td>\n",
       "    </tr>\n",
       "    <tr>\n",
       "      <th>59</th>\n",
       "      <td>2</td>\n",
       "      <td>3.0</td>\n",
       "    </tr>\n",
       "  </tbody>\n",
       "</table>\n",
       "</div>"
      ],
      "text/plain": [
       "    Predicted  Actual\n",
       "0           1     NaN\n",
       "1           3     NaN\n",
       "2           2     1.0\n",
       "3           2     1.0\n",
       "4           3     NaN\n",
       "5           2     NaN\n",
       "6           3     1.0\n",
       "7           3     NaN\n",
       "8           3     NaN\n",
       "9           1     1.0\n",
       "10          3     NaN\n",
       "11          1     1.0\n",
       "12          1     NaN\n",
       "13          2     1.0\n",
       "14          3     NaN\n",
       "15          2     1.0\n",
       "16          2     1.0\n",
       "17          2     1.0\n",
       "18          3     1.0\n",
       "19          3     NaN\n",
       "20          2     NaN\n",
       "21          2     NaN\n",
       "22          3     NaN\n",
       "23          1     1.0\n",
       "24          3     1.0\n",
       "25          1     NaN\n",
       "26          1     1.0\n",
       "27          2     NaN\n",
       "28          1     1.0\n",
       "29          3     NaN\n",
       "30          3     NaN\n",
       "31          1     NaN\n",
       "32          1     NaN\n",
       "33          1     NaN\n",
       "34          1     NaN\n",
       "35          2     NaN\n",
       "36          1     NaN\n",
       "37          1     1.0\n",
       "38          2     1.0\n",
       "39          1     1.0\n",
       "40          1     1.0\n",
       "41          3     NaN\n",
       "42          2     1.0\n",
       "43          2     NaN\n",
       "44          2     NaN\n",
       "45          1     NaN\n",
       "46          2     NaN\n",
       "47          2     NaN\n",
       "48          3     1.0\n",
       "49          1     NaN\n",
       "50          3     NaN\n",
       "51          3     NaN\n",
       "52          3     NaN\n",
       "53          3     3.0\n",
       "54          1     3.0\n",
       "55          1     NaN\n",
       "56          3     NaN\n",
       "57          3     NaN\n",
       "58          2     NaN\n",
       "59          2     3.0"
      ]
     },
     "execution_count": 31,
     "metadata": {},
     "output_type": "execute_result"
    }
   ],
   "source": [
    "# This dataframe gives the Actual vs Predicted values\n",
    "\n",
    "dfIris_d = pd.DataFrame(pred_vals_SVC, index = range(60,), columns = ['Predicted'])\n",
    "dfIris_d['Actual'] = y_test\n",
    "dfIris_d   "
   ]
  },
  {
   "cell_type": "markdown",
   "metadata": {
    "papermill": {
     "duration": 0.057543,
     "end_time": "2021-03-04T15:11:54.612375",
     "exception": false,
     "start_time": "2021-03-04T15:11:54.554832",
     "status": "completed"
    },
    "tags": []
   },
   "source": [
    "### Evaluating the Performance of the Model"
   ]
  },
  {
   "cell_type": "code",
   "execution_count": 32,
   "metadata": {
    "execution": {
     "iopub.execute_input": "2021-03-04T15:11:54.734162Z",
     "iopub.status.busy": "2021-03-04T15:11:54.733452Z",
     "iopub.status.idle": "2021-03-04T15:11:54.740021Z",
     "shell.execute_reply": "2021-03-04T15:11:54.739370Z"
    },
    "papermill": {
     "duration": 0.069722,
     "end_time": "2021-03-04T15:11:54.740164",
     "exception": false,
     "start_time": "2021-03-04T15:11:54.670442",
     "status": "completed"
    },
    "tags": []
   },
   "outputs": [
    {
     "name": "stdout",
     "output_type": "stream",
     "text": [
      "Mean Absolute Error = 0.016666666666666666\n",
      "Mean Squared Error=  0.016666666666666666\n",
      "Root Mean Squared Error=  0.12909944487358055\n"
     ]
    }
   ],
   "source": [
    "print('Mean Absolute Error =', mean_absolute_error(y_test, pred_vals_SVC))\n",
    "print(\"Mean Squared Error= \", mean_squared_error(y_test, pred_vals_SVC))\n",
    "print(\"Root Mean Squared Error= \", np.sqrt(mean_squared_error(y_test, pred_vals_SVC)))"
   ]
  },
  {
   "cell_type": "markdown",
   "metadata": {
    "papermill": {
     "duration": 0.058352,
     "end_time": "2021-03-04T15:11:54.856009",
     "exception": false,
     "start_time": "2021-03-04T15:11:54.797657",
     "status": "completed"
    },
    "tags": []
   },
   "source": [
    "### 3. RandomForest"
   ]
  },
  {
   "cell_type": "code",
   "execution_count": 33,
   "metadata": {
    "execution": {
     "iopub.execute_input": "2021-03-04T15:11:54.988496Z",
     "iopub.status.busy": "2021-03-04T15:11:54.985236Z",
     "iopub.status.idle": "2021-03-04T15:11:55.002341Z",
     "shell.execute_reply": "2021-03-04T15:11:55.002804Z"
    },
    "papermill": {
     "duration": 0.087929,
     "end_time": "2021-03-04T15:11:55.002981",
     "exception": false,
     "start_time": "2021-03-04T15:11:54.915052",
     "status": "completed"
    },
    "tags": []
   },
   "outputs": [
    {
     "name": "stdout",
     "output_type": "stream",
     "text": [
      "1.0\n"
     ]
    },
    {
     "data": {
      "text/plain": [
       "array([1, 3, 2, 2, 3, 2, 3, 3, 3, 1, 3, 1, 1, 2, 3, 2, 2, 2, 3, 3, 2, 2,\n",
       "       3, 1, 3, 1, 1, 2, 1, 3, 3, 1, 1, 1, 1, 2, 1, 1, 2, 1, 1, 3, 2, 2,\n",
       "       2, 1, 2, 2, 3, 1, 2, 3, 3, 3, 1, 1, 3, 3, 2, 2])"
      ]
     },
     "execution_count": 33,
     "metadata": {},
     "output_type": "execute_result"
    }
   ],
   "source": [
    "RF_model = RandomForestClassifier(n_estimators=5)\n",
    "RF_model.fit(X_train, y_train)\n",
    "pred_vals_RF = RF_model.predict(X_test)\n",
    "print(accuracy_score(y_test, pred_vals_RF))\n",
    "pred_vals_RF"
   ]
  },
  {
   "cell_type": "code",
   "execution_count": 34,
   "metadata": {
    "execution": {
     "iopub.execute_input": "2021-03-04T15:11:55.125265Z",
     "iopub.status.busy": "2021-03-04T15:11:55.124578Z",
     "iopub.status.idle": "2021-03-04T15:11:55.146429Z",
     "shell.execute_reply": "2021-03-04T15:11:55.145794Z"
    },
    "papermill": {
     "duration": 0.084112,
     "end_time": "2021-03-04T15:11:55.146633",
     "exception": false,
     "start_time": "2021-03-04T15:11:55.062521",
     "status": "completed"
    },
    "tags": []
   },
   "outputs": [
    {
     "data": {
      "text/html": [
       "<div>\n",
       "<style scoped>\n",
       "    .dataframe tbody tr th:only-of-type {\n",
       "        vertical-align: middle;\n",
       "    }\n",
       "\n",
       "    .dataframe tbody tr th {\n",
       "        vertical-align: top;\n",
       "    }\n",
       "\n",
       "    .dataframe thead th {\n",
       "        text-align: right;\n",
       "    }\n",
       "</style>\n",
       "<table border=\"1\" class=\"dataframe\">\n",
       "  <thead>\n",
       "    <tr style=\"text-align: right;\">\n",
       "      <th></th>\n",
       "      <th>Predicted</th>\n",
       "      <th>Actual</th>\n",
       "    </tr>\n",
       "  </thead>\n",
       "  <tbody>\n",
       "    <tr>\n",
       "      <th>0</th>\n",
       "      <td>1</td>\n",
       "      <td>NaN</td>\n",
       "    </tr>\n",
       "    <tr>\n",
       "      <th>1</th>\n",
       "      <td>3</td>\n",
       "      <td>NaN</td>\n",
       "    </tr>\n",
       "    <tr>\n",
       "      <th>2</th>\n",
       "      <td>2</td>\n",
       "      <td>1.0</td>\n",
       "    </tr>\n",
       "    <tr>\n",
       "      <th>3</th>\n",
       "      <td>2</td>\n",
       "      <td>1.0</td>\n",
       "    </tr>\n",
       "    <tr>\n",
       "      <th>4</th>\n",
       "      <td>3</td>\n",
       "      <td>NaN</td>\n",
       "    </tr>\n",
       "    <tr>\n",
       "      <th>5</th>\n",
       "      <td>2</td>\n",
       "      <td>NaN</td>\n",
       "    </tr>\n",
       "    <tr>\n",
       "      <th>6</th>\n",
       "      <td>3</td>\n",
       "      <td>1.0</td>\n",
       "    </tr>\n",
       "    <tr>\n",
       "      <th>7</th>\n",
       "      <td>3</td>\n",
       "      <td>NaN</td>\n",
       "    </tr>\n",
       "    <tr>\n",
       "      <th>8</th>\n",
       "      <td>3</td>\n",
       "      <td>NaN</td>\n",
       "    </tr>\n",
       "    <tr>\n",
       "      <th>9</th>\n",
       "      <td>1</td>\n",
       "      <td>1.0</td>\n",
       "    </tr>\n",
       "    <tr>\n",
       "      <th>10</th>\n",
       "      <td>3</td>\n",
       "      <td>NaN</td>\n",
       "    </tr>\n",
       "    <tr>\n",
       "      <th>11</th>\n",
       "      <td>1</td>\n",
       "      <td>1.0</td>\n",
       "    </tr>\n",
       "    <tr>\n",
       "      <th>12</th>\n",
       "      <td>1</td>\n",
       "      <td>NaN</td>\n",
       "    </tr>\n",
       "    <tr>\n",
       "      <th>13</th>\n",
       "      <td>2</td>\n",
       "      <td>1.0</td>\n",
       "    </tr>\n",
       "    <tr>\n",
       "      <th>14</th>\n",
       "      <td>3</td>\n",
       "      <td>NaN</td>\n",
       "    </tr>\n",
       "    <tr>\n",
       "      <th>15</th>\n",
       "      <td>2</td>\n",
       "      <td>1.0</td>\n",
       "    </tr>\n",
       "    <tr>\n",
       "      <th>16</th>\n",
       "      <td>2</td>\n",
       "      <td>1.0</td>\n",
       "    </tr>\n",
       "    <tr>\n",
       "      <th>17</th>\n",
       "      <td>2</td>\n",
       "      <td>1.0</td>\n",
       "    </tr>\n",
       "    <tr>\n",
       "      <th>18</th>\n",
       "      <td>3</td>\n",
       "      <td>1.0</td>\n",
       "    </tr>\n",
       "    <tr>\n",
       "      <th>19</th>\n",
       "      <td>3</td>\n",
       "      <td>NaN</td>\n",
       "    </tr>\n",
       "    <tr>\n",
       "      <th>20</th>\n",
       "      <td>2</td>\n",
       "      <td>NaN</td>\n",
       "    </tr>\n",
       "    <tr>\n",
       "      <th>21</th>\n",
       "      <td>2</td>\n",
       "      <td>NaN</td>\n",
       "    </tr>\n",
       "    <tr>\n",
       "      <th>22</th>\n",
       "      <td>3</td>\n",
       "      <td>NaN</td>\n",
       "    </tr>\n",
       "    <tr>\n",
       "      <th>23</th>\n",
       "      <td>1</td>\n",
       "      <td>1.0</td>\n",
       "    </tr>\n",
       "    <tr>\n",
       "      <th>24</th>\n",
       "      <td>3</td>\n",
       "      <td>1.0</td>\n",
       "    </tr>\n",
       "    <tr>\n",
       "      <th>25</th>\n",
       "      <td>1</td>\n",
       "      <td>NaN</td>\n",
       "    </tr>\n",
       "    <tr>\n",
       "      <th>26</th>\n",
       "      <td>1</td>\n",
       "      <td>1.0</td>\n",
       "    </tr>\n",
       "    <tr>\n",
       "      <th>27</th>\n",
       "      <td>2</td>\n",
       "      <td>NaN</td>\n",
       "    </tr>\n",
       "    <tr>\n",
       "      <th>28</th>\n",
       "      <td>1</td>\n",
       "      <td>1.0</td>\n",
       "    </tr>\n",
       "    <tr>\n",
       "      <th>29</th>\n",
       "      <td>3</td>\n",
       "      <td>NaN</td>\n",
       "    </tr>\n",
       "    <tr>\n",
       "      <th>30</th>\n",
       "      <td>3</td>\n",
       "      <td>NaN</td>\n",
       "    </tr>\n",
       "    <tr>\n",
       "      <th>31</th>\n",
       "      <td>1</td>\n",
       "      <td>NaN</td>\n",
       "    </tr>\n",
       "    <tr>\n",
       "      <th>32</th>\n",
       "      <td>1</td>\n",
       "      <td>NaN</td>\n",
       "    </tr>\n",
       "    <tr>\n",
       "      <th>33</th>\n",
       "      <td>1</td>\n",
       "      <td>NaN</td>\n",
       "    </tr>\n",
       "    <tr>\n",
       "      <th>34</th>\n",
       "      <td>1</td>\n",
       "      <td>NaN</td>\n",
       "    </tr>\n",
       "    <tr>\n",
       "      <th>35</th>\n",
       "      <td>2</td>\n",
       "      <td>NaN</td>\n",
       "    </tr>\n",
       "    <tr>\n",
       "      <th>36</th>\n",
       "      <td>1</td>\n",
       "      <td>NaN</td>\n",
       "    </tr>\n",
       "    <tr>\n",
       "      <th>37</th>\n",
       "      <td>1</td>\n",
       "      <td>1.0</td>\n",
       "    </tr>\n",
       "    <tr>\n",
       "      <th>38</th>\n",
       "      <td>2</td>\n",
       "      <td>1.0</td>\n",
       "    </tr>\n",
       "    <tr>\n",
       "      <th>39</th>\n",
       "      <td>1</td>\n",
       "      <td>1.0</td>\n",
       "    </tr>\n",
       "    <tr>\n",
       "      <th>40</th>\n",
       "      <td>1</td>\n",
       "      <td>1.0</td>\n",
       "    </tr>\n",
       "    <tr>\n",
       "      <th>41</th>\n",
       "      <td>3</td>\n",
       "      <td>NaN</td>\n",
       "    </tr>\n",
       "    <tr>\n",
       "      <th>42</th>\n",
       "      <td>2</td>\n",
       "      <td>1.0</td>\n",
       "    </tr>\n",
       "    <tr>\n",
       "      <th>43</th>\n",
       "      <td>2</td>\n",
       "      <td>NaN</td>\n",
       "    </tr>\n",
       "    <tr>\n",
       "      <th>44</th>\n",
       "      <td>2</td>\n",
       "      <td>NaN</td>\n",
       "    </tr>\n",
       "    <tr>\n",
       "      <th>45</th>\n",
       "      <td>1</td>\n",
       "      <td>NaN</td>\n",
       "    </tr>\n",
       "    <tr>\n",
       "      <th>46</th>\n",
       "      <td>2</td>\n",
       "      <td>NaN</td>\n",
       "    </tr>\n",
       "    <tr>\n",
       "      <th>47</th>\n",
       "      <td>2</td>\n",
       "      <td>NaN</td>\n",
       "    </tr>\n",
       "    <tr>\n",
       "      <th>48</th>\n",
       "      <td>3</td>\n",
       "      <td>1.0</td>\n",
       "    </tr>\n",
       "    <tr>\n",
       "      <th>49</th>\n",
       "      <td>1</td>\n",
       "      <td>NaN</td>\n",
       "    </tr>\n",
       "    <tr>\n",
       "      <th>50</th>\n",
       "      <td>2</td>\n",
       "      <td>NaN</td>\n",
       "    </tr>\n",
       "    <tr>\n",
       "      <th>51</th>\n",
       "      <td>3</td>\n",
       "      <td>NaN</td>\n",
       "    </tr>\n",
       "    <tr>\n",
       "      <th>52</th>\n",
       "      <td>3</td>\n",
       "      <td>NaN</td>\n",
       "    </tr>\n",
       "    <tr>\n",
       "      <th>53</th>\n",
       "      <td>3</td>\n",
       "      <td>3.0</td>\n",
       "    </tr>\n",
       "    <tr>\n",
       "      <th>54</th>\n",
       "      <td>1</td>\n",
       "      <td>3.0</td>\n",
       "    </tr>\n",
       "    <tr>\n",
       "      <th>55</th>\n",
       "      <td>1</td>\n",
       "      <td>NaN</td>\n",
       "    </tr>\n",
       "    <tr>\n",
       "      <th>56</th>\n",
       "      <td>3</td>\n",
       "      <td>NaN</td>\n",
       "    </tr>\n",
       "    <tr>\n",
       "      <th>57</th>\n",
       "      <td>3</td>\n",
       "      <td>NaN</td>\n",
       "    </tr>\n",
       "    <tr>\n",
       "      <th>58</th>\n",
       "      <td>2</td>\n",
       "      <td>NaN</td>\n",
       "    </tr>\n",
       "    <tr>\n",
       "      <th>59</th>\n",
       "      <td>2</td>\n",
       "      <td>3.0</td>\n",
       "    </tr>\n",
       "  </tbody>\n",
       "</table>\n",
       "</div>"
      ],
      "text/plain": [
       "    Predicted  Actual\n",
       "0           1     NaN\n",
       "1           3     NaN\n",
       "2           2     1.0\n",
       "3           2     1.0\n",
       "4           3     NaN\n",
       "5           2     NaN\n",
       "6           3     1.0\n",
       "7           3     NaN\n",
       "8           3     NaN\n",
       "9           1     1.0\n",
       "10          3     NaN\n",
       "11          1     1.0\n",
       "12          1     NaN\n",
       "13          2     1.0\n",
       "14          3     NaN\n",
       "15          2     1.0\n",
       "16          2     1.0\n",
       "17          2     1.0\n",
       "18          3     1.0\n",
       "19          3     NaN\n",
       "20          2     NaN\n",
       "21          2     NaN\n",
       "22          3     NaN\n",
       "23          1     1.0\n",
       "24          3     1.0\n",
       "25          1     NaN\n",
       "26          1     1.0\n",
       "27          2     NaN\n",
       "28          1     1.0\n",
       "29          3     NaN\n",
       "30          3     NaN\n",
       "31          1     NaN\n",
       "32          1     NaN\n",
       "33          1     NaN\n",
       "34          1     NaN\n",
       "35          2     NaN\n",
       "36          1     NaN\n",
       "37          1     1.0\n",
       "38          2     1.0\n",
       "39          1     1.0\n",
       "40          1     1.0\n",
       "41          3     NaN\n",
       "42          2     1.0\n",
       "43          2     NaN\n",
       "44          2     NaN\n",
       "45          1     NaN\n",
       "46          2     NaN\n",
       "47          2     NaN\n",
       "48          3     1.0\n",
       "49          1     NaN\n",
       "50          2     NaN\n",
       "51          3     NaN\n",
       "52          3     NaN\n",
       "53          3     3.0\n",
       "54          1     3.0\n",
       "55          1     NaN\n",
       "56          3     NaN\n",
       "57          3     NaN\n",
       "58          2     NaN\n",
       "59          2     3.0"
      ]
     },
     "execution_count": 34,
     "metadata": {},
     "output_type": "execute_result"
    }
   ],
   "source": [
    "# This dataframe gives the Actual vs Predicted values\n",
    "\n",
    "dfIris_d = pd.DataFrame(pred_vals_RF, index = range(60,), columns = ['Predicted'])\n",
    "dfIris_d['Actual'] = y_test\n",
    "dfIris_d  "
   ]
  },
  {
   "cell_type": "markdown",
   "metadata": {
    "papermill": {
     "duration": 0.058884,
     "end_time": "2021-03-04T15:11:55.265678",
     "exception": false,
     "start_time": "2021-03-04T15:11:55.206794",
     "status": "completed"
    },
    "tags": []
   },
   "source": [
    "### Evaluating the Performance of the Model"
   ]
  },
  {
   "cell_type": "code",
   "execution_count": 35,
   "metadata": {
    "execution": {
     "iopub.execute_input": "2021-03-04T15:11:55.393345Z",
     "iopub.status.busy": "2021-03-04T15:11:55.392610Z",
     "iopub.status.idle": "2021-03-04T15:11:55.398341Z",
     "shell.execute_reply": "2021-03-04T15:11:55.397695Z"
    },
    "papermill": {
     "duration": 0.072178,
     "end_time": "2021-03-04T15:11:55.398517",
     "exception": false,
     "start_time": "2021-03-04T15:11:55.326339",
     "status": "completed"
    },
    "tags": []
   },
   "outputs": [
    {
     "name": "stdout",
     "output_type": "stream",
     "text": [
      "Mean Absolute Error = 0.0\n",
      "Mean Squared Error=  0.0\n",
      "Root Mean Squared Error=  0.0\n"
     ]
    }
   ],
   "source": [
    "print('Mean Absolute Error =', mean_absolute_error(y_test, pred_vals_RF))\n",
    "print(\"Mean Squared Error= \", mean_squared_error(y_test, pred_vals_RF))\n",
    "print(\"Root Mean Squared Error= \", np.sqrt(mean_squared_error(y_test, pred_vals_RF)))"
   ]
  },
  {
   "cell_type": "markdown",
   "metadata": {
    "papermill": {
     "duration": 0.065856,
     "end_time": "2021-03-04T15:11:55.526975",
     "exception": false,
     "start_time": "2021-03-04T15:11:55.461119",
     "status": "completed"
    },
    "tags": []
   },
   "source": [
    "### 4. Logistic Regression"
   ]
  },
  {
   "cell_type": "code",
   "execution_count": 36,
   "metadata": {
    "execution": {
     "iopub.execute_input": "2021-03-04T15:11:55.683196Z",
     "iopub.status.busy": "2021-03-04T15:11:55.681503Z",
     "iopub.status.idle": "2021-03-04T15:11:55.724654Z",
     "shell.execute_reply": "2021-03-04T15:11:55.725209Z"
    },
    "papermill": {
     "duration": 0.127189,
     "end_time": "2021-03-04T15:11:55.725399",
     "exception": false,
     "start_time": "2021-03-04T15:11:55.598210",
     "status": "completed"
    },
    "tags": []
   },
   "outputs": [
    {
     "name": "stdout",
     "output_type": "stream",
     "text": [
      "1.0\n"
     ]
    },
    {
     "name": "stderr",
     "output_type": "stream",
     "text": [
      "/opt/conda/lib/python3.7/site-packages/sklearn/linear_model/_logistic.py:765: ConvergenceWarning: lbfgs failed to converge (status=1):\n",
      "STOP: TOTAL NO. of ITERATIONS REACHED LIMIT.\n",
      "\n",
      "Increase the number of iterations (max_iter) or scale the data as shown in:\n",
      "    https://scikit-learn.org/stable/modules/preprocessing.html\n",
      "Please also refer to the documentation for alternative solver options:\n",
      "    https://scikit-learn.org/stable/modules/linear_model.html#logistic-regression\n",
      "  extra_warning_msg=_LOGISTIC_SOLVER_CONVERGENCE_MSG)\n"
     ]
    },
    {
     "data": {
      "text/plain": [
       "array([1, 3, 2, 2, 3, 2, 3, 3, 3, 1, 3, 1, 1, 2, 3, 2, 2, 2, 3, 3, 2, 2,\n",
       "       3, 1, 3, 1, 1, 2, 1, 3, 3, 1, 1, 1, 1, 2, 1, 1, 2, 1, 1, 3, 2, 2,\n",
       "       2, 1, 2, 2, 3, 1, 2, 3, 3, 3, 1, 1, 3, 3, 2, 2])"
      ]
     },
     "execution_count": 36,
     "metadata": {},
     "output_type": "execute_result"
    }
   ],
   "source": [
    "LR_model = LogisticRegression()\n",
    "LR_model.fit(X_train, y_train)\n",
    "pred_vals_LR = LR_model.predict(X_test)\n",
    "print(accuracy_score(y_test, pred_vals_LR))\n",
    "pred_vals_LR"
   ]
  },
  {
   "cell_type": "code",
   "execution_count": 37,
   "metadata": {
    "execution": {
     "iopub.execute_input": "2021-03-04T15:11:55.878539Z",
     "iopub.status.busy": "2021-03-04T15:11:55.876239Z",
     "iopub.status.idle": "2021-03-04T15:11:55.884285Z",
     "shell.execute_reply": "2021-03-04T15:11:55.883624Z"
    },
    "papermill": {
     "duration": 0.090295,
     "end_time": "2021-03-04T15:11:55.884444",
     "exception": false,
     "start_time": "2021-03-04T15:11:55.794149",
     "status": "completed"
    },
    "tags": []
   },
   "outputs": [
    {
     "data": {
      "text/html": [
       "<div>\n",
       "<style scoped>\n",
       "    .dataframe tbody tr th:only-of-type {\n",
       "        vertical-align: middle;\n",
       "    }\n",
       "\n",
       "    .dataframe tbody tr th {\n",
       "        vertical-align: top;\n",
       "    }\n",
       "\n",
       "    .dataframe thead th {\n",
       "        text-align: right;\n",
       "    }\n",
       "</style>\n",
       "<table border=\"1\" class=\"dataframe\">\n",
       "  <thead>\n",
       "    <tr style=\"text-align: right;\">\n",
       "      <th></th>\n",
       "      <th>Predicted</th>\n",
       "      <th>Actual</th>\n",
       "    </tr>\n",
       "  </thead>\n",
       "  <tbody>\n",
       "    <tr>\n",
       "      <th>0</th>\n",
       "      <td>1</td>\n",
       "      <td>NaN</td>\n",
       "    </tr>\n",
       "    <tr>\n",
       "      <th>1</th>\n",
       "      <td>3</td>\n",
       "      <td>NaN</td>\n",
       "    </tr>\n",
       "    <tr>\n",
       "      <th>2</th>\n",
       "      <td>2</td>\n",
       "      <td>1.0</td>\n",
       "    </tr>\n",
       "    <tr>\n",
       "      <th>3</th>\n",
       "      <td>2</td>\n",
       "      <td>1.0</td>\n",
       "    </tr>\n",
       "    <tr>\n",
       "      <th>4</th>\n",
       "      <td>3</td>\n",
       "      <td>NaN</td>\n",
       "    </tr>\n",
       "    <tr>\n",
       "      <th>5</th>\n",
       "      <td>2</td>\n",
       "      <td>NaN</td>\n",
       "    </tr>\n",
       "    <tr>\n",
       "      <th>6</th>\n",
       "      <td>3</td>\n",
       "      <td>1.0</td>\n",
       "    </tr>\n",
       "    <tr>\n",
       "      <th>7</th>\n",
       "      <td>3</td>\n",
       "      <td>NaN</td>\n",
       "    </tr>\n",
       "    <tr>\n",
       "      <th>8</th>\n",
       "      <td>3</td>\n",
       "      <td>NaN</td>\n",
       "    </tr>\n",
       "    <tr>\n",
       "      <th>9</th>\n",
       "      <td>1</td>\n",
       "      <td>1.0</td>\n",
       "    </tr>\n",
       "    <tr>\n",
       "      <th>10</th>\n",
       "      <td>3</td>\n",
       "      <td>NaN</td>\n",
       "    </tr>\n",
       "    <tr>\n",
       "      <th>11</th>\n",
       "      <td>1</td>\n",
       "      <td>1.0</td>\n",
       "    </tr>\n",
       "    <tr>\n",
       "      <th>12</th>\n",
       "      <td>1</td>\n",
       "      <td>NaN</td>\n",
       "    </tr>\n",
       "    <tr>\n",
       "      <th>13</th>\n",
       "      <td>2</td>\n",
       "      <td>1.0</td>\n",
       "    </tr>\n",
       "    <tr>\n",
       "      <th>14</th>\n",
       "      <td>3</td>\n",
       "      <td>NaN</td>\n",
       "    </tr>\n",
       "    <tr>\n",
       "      <th>15</th>\n",
       "      <td>2</td>\n",
       "      <td>1.0</td>\n",
       "    </tr>\n",
       "    <tr>\n",
       "      <th>16</th>\n",
       "      <td>2</td>\n",
       "      <td>1.0</td>\n",
       "    </tr>\n",
       "    <tr>\n",
       "      <th>17</th>\n",
       "      <td>2</td>\n",
       "      <td>1.0</td>\n",
       "    </tr>\n",
       "    <tr>\n",
       "      <th>18</th>\n",
       "      <td>3</td>\n",
       "      <td>1.0</td>\n",
       "    </tr>\n",
       "    <tr>\n",
       "      <th>19</th>\n",
       "      <td>3</td>\n",
       "      <td>NaN</td>\n",
       "    </tr>\n",
       "    <tr>\n",
       "      <th>20</th>\n",
       "      <td>2</td>\n",
       "      <td>NaN</td>\n",
       "    </tr>\n",
       "    <tr>\n",
       "      <th>21</th>\n",
       "      <td>2</td>\n",
       "      <td>NaN</td>\n",
       "    </tr>\n",
       "    <tr>\n",
       "      <th>22</th>\n",
       "      <td>3</td>\n",
       "      <td>NaN</td>\n",
       "    </tr>\n",
       "    <tr>\n",
       "      <th>23</th>\n",
       "      <td>1</td>\n",
       "      <td>1.0</td>\n",
       "    </tr>\n",
       "    <tr>\n",
       "      <th>24</th>\n",
       "      <td>3</td>\n",
       "      <td>1.0</td>\n",
       "    </tr>\n",
       "    <tr>\n",
       "      <th>25</th>\n",
       "      <td>1</td>\n",
       "      <td>NaN</td>\n",
       "    </tr>\n",
       "    <tr>\n",
       "      <th>26</th>\n",
       "      <td>1</td>\n",
       "      <td>1.0</td>\n",
       "    </tr>\n",
       "    <tr>\n",
       "      <th>27</th>\n",
       "      <td>2</td>\n",
       "      <td>NaN</td>\n",
       "    </tr>\n",
       "    <tr>\n",
       "      <th>28</th>\n",
       "      <td>1</td>\n",
       "      <td>1.0</td>\n",
       "    </tr>\n",
       "    <tr>\n",
       "      <th>29</th>\n",
       "      <td>3</td>\n",
       "      <td>NaN</td>\n",
       "    </tr>\n",
       "    <tr>\n",
       "      <th>30</th>\n",
       "      <td>3</td>\n",
       "      <td>NaN</td>\n",
       "    </tr>\n",
       "    <tr>\n",
       "      <th>31</th>\n",
       "      <td>1</td>\n",
       "      <td>NaN</td>\n",
       "    </tr>\n",
       "    <tr>\n",
       "      <th>32</th>\n",
       "      <td>1</td>\n",
       "      <td>NaN</td>\n",
       "    </tr>\n",
       "    <tr>\n",
       "      <th>33</th>\n",
       "      <td>1</td>\n",
       "      <td>NaN</td>\n",
       "    </tr>\n",
       "    <tr>\n",
       "      <th>34</th>\n",
       "      <td>1</td>\n",
       "      <td>NaN</td>\n",
       "    </tr>\n",
       "    <tr>\n",
       "      <th>35</th>\n",
       "      <td>2</td>\n",
       "      <td>NaN</td>\n",
       "    </tr>\n",
       "    <tr>\n",
       "      <th>36</th>\n",
       "      <td>1</td>\n",
       "      <td>NaN</td>\n",
       "    </tr>\n",
       "    <tr>\n",
       "      <th>37</th>\n",
       "      <td>1</td>\n",
       "      <td>1.0</td>\n",
       "    </tr>\n",
       "    <tr>\n",
       "      <th>38</th>\n",
       "      <td>2</td>\n",
       "      <td>1.0</td>\n",
       "    </tr>\n",
       "    <tr>\n",
       "      <th>39</th>\n",
       "      <td>1</td>\n",
       "      <td>1.0</td>\n",
       "    </tr>\n",
       "    <tr>\n",
       "      <th>40</th>\n",
       "      <td>1</td>\n",
       "      <td>1.0</td>\n",
       "    </tr>\n",
       "    <tr>\n",
       "      <th>41</th>\n",
       "      <td>3</td>\n",
       "      <td>NaN</td>\n",
       "    </tr>\n",
       "    <tr>\n",
       "      <th>42</th>\n",
       "      <td>2</td>\n",
       "      <td>1.0</td>\n",
       "    </tr>\n",
       "    <tr>\n",
       "      <th>43</th>\n",
       "      <td>2</td>\n",
       "      <td>NaN</td>\n",
       "    </tr>\n",
       "    <tr>\n",
       "      <th>44</th>\n",
       "      <td>2</td>\n",
       "      <td>NaN</td>\n",
       "    </tr>\n",
       "    <tr>\n",
       "      <th>45</th>\n",
       "      <td>1</td>\n",
       "      <td>NaN</td>\n",
       "    </tr>\n",
       "    <tr>\n",
       "      <th>46</th>\n",
       "      <td>2</td>\n",
       "      <td>NaN</td>\n",
       "    </tr>\n",
       "    <tr>\n",
       "      <th>47</th>\n",
       "      <td>2</td>\n",
       "      <td>NaN</td>\n",
       "    </tr>\n",
       "    <tr>\n",
       "      <th>48</th>\n",
       "      <td>3</td>\n",
       "      <td>1.0</td>\n",
       "    </tr>\n",
       "    <tr>\n",
       "      <th>49</th>\n",
       "      <td>1</td>\n",
       "      <td>NaN</td>\n",
       "    </tr>\n",
       "    <tr>\n",
       "      <th>50</th>\n",
       "      <td>2</td>\n",
       "      <td>NaN</td>\n",
       "    </tr>\n",
       "    <tr>\n",
       "      <th>51</th>\n",
       "      <td>3</td>\n",
       "      <td>NaN</td>\n",
       "    </tr>\n",
       "    <tr>\n",
       "      <th>52</th>\n",
       "      <td>3</td>\n",
       "      <td>NaN</td>\n",
       "    </tr>\n",
       "    <tr>\n",
       "      <th>53</th>\n",
       "      <td>3</td>\n",
       "      <td>3.0</td>\n",
       "    </tr>\n",
       "    <tr>\n",
       "      <th>54</th>\n",
       "      <td>1</td>\n",
       "      <td>3.0</td>\n",
       "    </tr>\n",
       "    <tr>\n",
       "      <th>55</th>\n",
       "      <td>1</td>\n",
       "      <td>NaN</td>\n",
       "    </tr>\n",
       "    <tr>\n",
       "      <th>56</th>\n",
       "      <td>3</td>\n",
       "      <td>NaN</td>\n",
       "    </tr>\n",
       "    <tr>\n",
       "      <th>57</th>\n",
       "      <td>3</td>\n",
       "      <td>NaN</td>\n",
       "    </tr>\n",
       "    <tr>\n",
       "      <th>58</th>\n",
       "      <td>2</td>\n",
       "      <td>NaN</td>\n",
       "    </tr>\n",
       "    <tr>\n",
       "      <th>59</th>\n",
       "      <td>2</td>\n",
       "      <td>3.0</td>\n",
       "    </tr>\n",
       "  </tbody>\n",
       "</table>\n",
       "</div>"
      ],
      "text/plain": [
       "    Predicted  Actual\n",
       "0           1     NaN\n",
       "1           3     NaN\n",
       "2           2     1.0\n",
       "3           2     1.0\n",
       "4           3     NaN\n",
       "5           2     NaN\n",
       "6           3     1.0\n",
       "7           3     NaN\n",
       "8           3     NaN\n",
       "9           1     1.0\n",
       "10          3     NaN\n",
       "11          1     1.0\n",
       "12          1     NaN\n",
       "13          2     1.0\n",
       "14          3     NaN\n",
       "15          2     1.0\n",
       "16          2     1.0\n",
       "17          2     1.0\n",
       "18          3     1.0\n",
       "19          3     NaN\n",
       "20          2     NaN\n",
       "21          2     NaN\n",
       "22          3     NaN\n",
       "23          1     1.0\n",
       "24          3     1.0\n",
       "25          1     NaN\n",
       "26          1     1.0\n",
       "27          2     NaN\n",
       "28          1     1.0\n",
       "29          3     NaN\n",
       "30          3     NaN\n",
       "31          1     NaN\n",
       "32          1     NaN\n",
       "33          1     NaN\n",
       "34          1     NaN\n",
       "35          2     NaN\n",
       "36          1     NaN\n",
       "37          1     1.0\n",
       "38          2     1.0\n",
       "39          1     1.0\n",
       "40          1     1.0\n",
       "41          3     NaN\n",
       "42          2     1.0\n",
       "43          2     NaN\n",
       "44          2     NaN\n",
       "45          1     NaN\n",
       "46          2     NaN\n",
       "47          2     NaN\n",
       "48          3     1.0\n",
       "49          1     NaN\n",
       "50          2     NaN\n",
       "51          3     NaN\n",
       "52          3     NaN\n",
       "53          3     3.0\n",
       "54          1     3.0\n",
       "55          1     NaN\n",
       "56          3     NaN\n",
       "57          3     NaN\n",
       "58          2     NaN\n",
       "59          2     3.0"
      ]
     },
     "execution_count": 37,
     "metadata": {},
     "output_type": "execute_result"
    }
   ],
   "source": [
    "# This dataframe gives the Actual vs Predicted values\n",
    "\n",
    "dfIris_d = pd.DataFrame(pred_vals_LR, index = range(60,), columns = ['Predicted'])\n",
    "dfIris_d['Actual'] = y_test\n",
    "dfIris_d  "
   ]
  },
  {
   "cell_type": "markdown",
   "metadata": {
    "papermill": {
     "duration": 0.063575,
     "end_time": "2021-03-04T15:11:56.012100",
     "exception": false,
     "start_time": "2021-03-04T15:11:55.948525",
     "status": "completed"
    },
    "tags": []
   },
   "source": [
    "### Evaluating the Performance of the Model"
   ]
  },
  {
   "cell_type": "code",
   "execution_count": 38,
   "metadata": {
    "execution": {
     "iopub.execute_input": "2021-03-04T15:11:56.143917Z",
     "iopub.status.busy": "2021-03-04T15:11:56.143091Z",
     "iopub.status.idle": "2021-03-04T15:11:56.146992Z",
     "shell.execute_reply": "2021-03-04T15:11:56.147653Z"
    },
    "papermill": {
     "duration": 0.073966,
     "end_time": "2021-03-04T15:11:56.147883",
     "exception": false,
     "start_time": "2021-03-04T15:11:56.073917",
     "status": "completed"
    },
    "tags": []
   },
   "outputs": [
    {
     "name": "stdout",
     "output_type": "stream",
     "text": [
      "Mean Absolute Error = 0.0\n",
      "Mean Squared Error=  0.0\n",
      "Root Mean Squared Error=  0.0\n"
     ]
    }
   ],
   "source": [
    "print('Mean Absolute Error =', mean_absolute_error(y_test, pred_vals_LR))\n",
    "print(\"Mean Squared Error= \", mean_squared_error(y_test, pred_vals_LR))\n",
    "print(\"Root Mean Squared Error= \", np.sqrt(mean_squared_error(y_test, pred_vals_LR)))"
   ]
  },
  {
   "cell_type": "markdown",
   "metadata": {
    "papermill": {
     "duration": 0.061987,
     "end_time": "2021-03-04T15:11:56.273154",
     "exception": false,
     "start_time": "2021-03-04T15:11:56.211167",
     "status": "completed"
    },
    "tags": []
   },
   "source": [
    "### 5. Gaussian Naive Bayes"
   ]
  },
  {
   "cell_type": "code",
   "execution_count": 39,
   "metadata": {
    "execution": {
     "iopub.execute_input": "2021-03-04T15:11:56.409995Z",
     "iopub.status.busy": "2021-03-04T15:11:56.409257Z",
     "iopub.status.idle": "2021-03-04T15:11:56.415390Z",
     "shell.execute_reply": "2021-03-04T15:11:56.414416Z"
    },
    "papermill": {
     "duration": 0.080157,
     "end_time": "2021-03-04T15:11:56.415633",
     "exception": false,
     "start_time": "2021-03-04T15:11:56.335476",
     "status": "completed"
    },
    "tags": []
   },
   "outputs": [
    {
     "name": "stdout",
     "output_type": "stream",
     "text": [
      "1.0\n"
     ]
    },
    {
     "data": {
      "text/plain": [
       "array([1, 3, 2, 2, 3, 2, 3, 3, 3, 1, 3, 1, 1, 2, 3, 2, 2, 2, 3, 3, 2, 2,\n",
       "       3, 1, 3, 1, 1, 2, 1, 3, 3, 1, 1, 1, 1, 2, 1, 1, 2, 1, 1, 3, 2, 2,\n",
       "       2, 1, 2, 2, 3, 1, 2, 3, 3, 3, 1, 1, 3, 3, 2, 2])"
      ]
     },
     "execution_count": 39,
     "metadata": {},
     "output_type": "execute_result"
    }
   ],
   "source": [
    "#Train and test model\n",
    "GNB_model = GaussianNB()\n",
    "GNB_model.fit(X_train ,y_train)\n",
    "pred_vals_GNB = GNB_model.predict(X_test)\n",
    "print(accuracy_score(y_test, pred_vals_GNB))\n",
    "pred_vals_GNB"
   ]
  },
  {
   "cell_type": "code",
   "execution_count": 40,
   "metadata": {
    "execution": {
     "iopub.execute_input": "2021-03-04T15:11:56.564694Z",
     "iopub.status.busy": "2021-03-04T15:11:56.562176Z",
     "iopub.status.idle": "2021-03-04T15:11:56.569642Z",
     "shell.execute_reply": "2021-03-04T15:11:56.570148Z"
    },
    "papermill": {
     "duration": 0.089487,
     "end_time": "2021-03-04T15:11:56.570319",
     "exception": false,
     "start_time": "2021-03-04T15:11:56.480832",
     "status": "completed"
    },
    "tags": []
   },
   "outputs": [
    {
     "data": {
      "text/html": [
       "<div>\n",
       "<style scoped>\n",
       "    .dataframe tbody tr th:only-of-type {\n",
       "        vertical-align: middle;\n",
       "    }\n",
       "\n",
       "    .dataframe tbody tr th {\n",
       "        vertical-align: top;\n",
       "    }\n",
       "\n",
       "    .dataframe thead th {\n",
       "        text-align: right;\n",
       "    }\n",
       "</style>\n",
       "<table border=\"1\" class=\"dataframe\">\n",
       "  <thead>\n",
       "    <tr style=\"text-align: right;\">\n",
       "      <th></th>\n",
       "      <th>Predicted</th>\n",
       "      <th>Actual</th>\n",
       "    </tr>\n",
       "  </thead>\n",
       "  <tbody>\n",
       "    <tr>\n",
       "      <th>0</th>\n",
       "      <td>1</td>\n",
       "      <td>NaN</td>\n",
       "    </tr>\n",
       "    <tr>\n",
       "      <th>1</th>\n",
       "      <td>3</td>\n",
       "      <td>NaN</td>\n",
       "    </tr>\n",
       "    <tr>\n",
       "      <th>2</th>\n",
       "      <td>2</td>\n",
       "      <td>1.0</td>\n",
       "    </tr>\n",
       "    <tr>\n",
       "      <th>3</th>\n",
       "      <td>2</td>\n",
       "      <td>1.0</td>\n",
       "    </tr>\n",
       "    <tr>\n",
       "      <th>4</th>\n",
       "      <td>3</td>\n",
       "      <td>NaN</td>\n",
       "    </tr>\n",
       "    <tr>\n",
       "      <th>5</th>\n",
       "      <td>2</td>\n",
       "      <td>NaN</td>\n",
       "    </tr>\n",
       "    <tr>\n",
       "      <th>6</th>\n",
       "      <td>3</td>\n",
       "      <td>1.0</td>\n",
       "    </tr>\n",
       "    <tr>\n",
       "      <th>7</th>\n",
       "      <td>3</td>\n",
       "      <td>NaN</td>\n",
       "    </tr>\n",
       "    <tr>\n",
       "      <th>8</th>\n",
       "      <td>3</td>\n",
       "      <td>NaN</td>\n",
       "    </tr>\n",
       "    <tr>\n",
       "      <th>9</th>\n",
       "      <td>1</td>\n",
       "      <td>1.0</td>\n",
       "    </tr>\n",
       "    <tr>\n",
       "      <th>10</th>\n",
       "      <td>3</td>\n",
       "      <td>NaN</td>\n",
       "    </tr>\n",
       "    <tr>\n",
       "      <th>11</th>\n",
       "      <td>1</td>\n",
       "      <td>1.0</td>\n",
       "    </tr>\n",
       "    <tr>\n",
       "      <th>12</th>\n",
       "      <td>1</td>\n",
       "      <td>NaN</td>\n",
       "    </tr>\n",
       "    <tr>\n",
       "      <th>13</th>\n",
       "      <td>2</td>\n",
       "      <td>1.0</td>\n",
       "    </tr>\n",
       "    <tr>\n",
       "      <th>14</th>\n",
       "      <td>3</td>\n",
       "      <td>NaN</td>\n",
       "    </tr>\n",
       "    <tr>\n",
       "      <th>15</th>\n",
       "      <td>2</td>\n",
       "      <td>1.0</td>\n",
       "    </tr>\n",
       "    <tr>\n",
       "      <th>16</th>\n",
       "      <td>2</td>\n",
       "      <td>1.0</td>\n",
       "    </tr>\n",
       "    <tr>\n",
       "      <th>17</th>\n",
       "      <td>2</td>\n",
       "      <td>1.0</td>\n",
       "    </tr>\n",
       "    <tr>\n",
       "      <th>18</th>\n",
       "      <td>3</td>\n",
       "      <td>1.0</td>\n",
       "    </tr>\n",
       "    <tr>\n",
       "      <th>19</th>\n",
       "      <td>3</td>\n",
       "      <td>NaN</td>\n",
       "    </tr>\n",
       "    <tr>\n",
       "      <th>20</th>\n",
       "      <td>2</td>\n",
       "      <td>NaN</td>\n",
       "    </tr>\n",
       "    <tr>\n",
       "      <th>21</th>\n",
       "      <td>2</td>\n",
       "      <td>NaN</td>\n",
       "    </tr>\n",
       "    <tr>\n",
       "      <th>22</th>\n",
       "      <td>3</td>\n",
       "      <td>NaN</td>\n",
       "    </tr>\n",
       "    <tr>\n",
       "      <th>23</th>\n",
       "      <td>1</td>\n",
       "      <td>1.0</td>\n",
       "    </tr>\n",
       "    <tr>\n",
       "      <th>24</th>\n",
       "      <td>3</td>\n",
       "      <td>1.0</td>\n",
       "    </tr>\n",
       "    <tr>\n",
       "      <th>25</th>\n",
       "      <td>1</td>\n",
       "      <td>NaN</td>\n",
       "    </tr>\n",
       "    <tr>\n",
       "      <th>26</th>\n",
       "      <td>1</td>\n",
       "      <td>1.0</td>\n",
       "    </tr>\n",
       "    <tr>\n",
       "      <th>27</th>\n",
       "      <td>2</td>\n",
       "      <td>NaN</td>\n",
       "    </tr>\n",
       "    <tr>\n",
       "      <th>28</th>\n",
       "      <td>1</td>\n",
       "      <td>1.0</td>\n",
       "    </tr>\n",
       "    <tr>\n",
       "      <th>29</th>\n",
       "      <td>3</td>\n",
       "      <td>NaN</td>\n",
       "    </tr>\n",
       "    <tr>\n",
       "      <th>30</th>\n",
       "      <td>3</td>\n",
       "      <td>NaN</td>\n",
       "    </tr>\n",
       "    <tr>\n",
       "      <th>31</th>\n",
       "      <td>1</td>\n",
       "      <td>NaN</td>\n",
       "    </tr>\n",
       "    <tr>\n",
       "      <th>32</th>\n",
       "      <td>1</td>\n",
       "      <td>NaN</td>\n",
       "    </tr>\n",
       "    <tr>\n",
       "      <th>33</th>\n",
       "      <td>1</td>\n",
       "      <td>NaN</td>\n",
       "    </tr>\n",
       "    <tr>\n",
       "      <th>34</th>\n",
       "      <td>1</td>\n",
       "      <td>NaN</td>\n",
       "    </tr>\n",
       "    <tr>\n",
       "      <th>35</th>\n",
       "      <td>2</td>\n",
       "      <td>NaN</td>\n",
       "    </tr>\n",
       "    <tr>\n",
       "      <th>36</th>\n",
       "      <td>1</td>\n",
       "      <td>NaN</td>\n",
       "    </tr>\n",
       "    <tr>\n",
       "      <th>37</th>\n",
       "      <td>1</td>\n",
       "      <td>1.0</td>\n",
       "    </tr>\n",
       "    <tr>\n",
       "      <th>38</th>\n",
       "      <td>2</td>\n",
       "      <td>1.0</td>\n",
       "    </tr>\n",
       "    <tr>\n",
       "      <th>39</th>\n",
       "      <td>1</td>\n",
       "      <td>1.0</td>\n",
       "    </tr>\n",
       "    <tr>\n",
       "      <th>40</th>\n",
       "      <td>1</td>\n",
       "      <td>1.0</td>\n",
       "    </tr>\n",
       "    <tr>\n",
       "      <th>41</th>\n",
       "      <td>3</td>\n",
       "      <td>NaN</td>\n",
       "    </tr>\n",
       "    <tr>\n",
       "      <th>42</th>\n",
       "      <td>2</td>\n",
       "      <td>1.0</td>\n",
       "    </tr>\n",
       "    <tr>\n",
       "      <th>43</th>\n",
       "      <td>2</td>\n",
       "      <td>NaN</td>\n",
       "    </tr>\n",
       "    <tr>\n",
       "      <th>44</th>\n",
       "      <td>2</td>\n",
       "      <td>NaN</td>\n",
       "    </tr>\n",
       "    <tr>\n",
       "      <th>45</th>\n",
       "      <td>1</td>\n",
       "      <td>NaN</td>\n",
       "    </tr>\n",
       "    <tr>\n",
       "      <th>46</th>\n",
       "      <td>2</td>\n",
       "      <td>NaN</td>\n",
       "    </tr>\n",
       "    <tr>\n",
       "      <th>47</th>\n",
       "      <td>2</td>\n",
       "      <td>NaN</td>\n",
       "    </tr>\n",
       "    <tr>\n",
       "      <th>48</th>\n",
       "      <td>3</td>\n",
       "      <td>1.0</td>\n",
       "    </tr>\n",
       "    <tr>\n",
       "      <th>49</th>\n",
       "      <td>1</td>\n",
       "      <td>NaN</td>\n",
       "    </tr>\n",
       "    <tr>\n",
       "      <th>50</th>\n",
       "      <td>2</td>\n",
       "      <td>NaN</td>\n",
       "    </tr>\n",
       "    <tr>\n",
       "      <th>51</th>\n",
       "      <td>3</td>\n",
       "      <td>NaN</td>\n",
       "    </tr>\n",
       "    <tr>\n",
       "      <th>52</th>\n",
       "      <td>3</td>\n",
       "      <td>NaN</td>\n",
       "    </tr>\n",
       "    <tr>\n",
       "      <th>53</th>\n",
       "      <td>3</td>\n",
       "      <td>3.0</td>\n",
       "    </tr>\n",
       "    <tr>\n",
       "      <th>54</th>\n",
       "      <td>1</td>\n",
       "      <td>3.0</td>\n",
       "    </tr>\n",
       "    <tr>\n",
       "      <th>55</th>\n",
       "      <td>1</td>\n",
       "      <td>NaN</td>\n",
       "    </tr>\n",
       "    <tr>\n",
       "      <th>56</th>\n",
       "      <td>3</td>\n",
       "      <td>NaN</td>\n",
       "    </tr>\n",
       "    <tr>\n",
       "      <th>57</th>\n",
       "      <td>3</td>\n",
       "      <td>NaN</td>\n",
       "    </tr>\n",
       "    <tr>\n",
       "      <th>58</th>\n",
       "      <td>2</td>\n",
       "      <td>NaN</td>\n",
       "    </tr>\n",
       "    <tr>\n",
       "      <th>59</th>\n",
       "      <td>2</td>\n",
       "      <td>3.0</td>\n",
       "    </tr>\n",
       "  </tbody>\n",
       "</table>\n",
       "</div>"
      ],
      "text/plain": [
       "    Predicted  Actual\n",
       "0           1     NaN\n",
       "1           3     NaN\n",
       "2           2     1.0\n",
       "3           2     1.0\n",
       "4           3     NaN\n",
       "5           2     NaN\n",
       "6           3     1.0\n",
       "7           3     NaN\n",
       "8           3     NaN\n",
       "9           1     1.0\n",
       "10          3     NaN\n",
       "11          1     1.0\n",
       "12          1     NaN\n",
       "13          2     1.0\n",
       "14          3     NaN\n",
       "15          2     1.0\n",
       "16          2     1.0\n",
       "17          2     1.0\n",
       "18          3     1.0\n",
       "19          3     NaN\n",
       "20          2     NaN\n",
       "21          2     NaN\n",
       "22          3     NaN\n",
       "23          1     1.0\n",
       "24          3     1.0\n",
       "25          1     NaN\n",
       "26          1     1.0\n",
       "27          2     NaN\n",
       "28          1     1.0\n",
       "29          3     NaN\n",
       "30          3     NaN\n",
       "31          1     NaN\n",
       "32          1     NaN\n",
       "33          1     NaN\n",
       "34          1     NaN\n",
       "35          2     NaN\n",
       "36          1     NaN\n",
       "37          1     1.0\n",
       "38          2     1.0\n",
       "39          1     1.0\n",
       "40          1     1.0\n",
       "41          3     NaN\n",
       "42          2     1.0\n",
       "43          2     NaN\n",
       "44          2     NaN\n",
       "45          1     NaN\n",
       "46          2     NaN\n",
       "47          2     NaN\n",
       "48          3     1.0\n",
       "49          1     NaN\n",
       "50          2     NaN\n",
       "51          3     NaN\n",
       "52          3     NaN\n",
       "53          3     3.0\n",
       "54          1     3.0\n",
       "55          1     NaN\n",
       "56          3     NaN\n",
       "57          3     NaN\n",
       "58          2     NaN\n",
       "59          2     3.0"
      ]
     },
     "execution_count": 40,
     "metadata": {},
     "output_type": "execute_result"
    }
   ],
   "source": [
    "# This dataframe gives the Actual vs Predicted values\n",
    "\n",
    "dfIris_d = pd.DataFrame(pred_vals_GNB, index = range(60,), columns = ['Predicted'])\n",
    "dfIris_d['Actual'] = y_test\n",
    "dfIris_d    "
   ]
  },
  {
   "cell_type": "markdown",
   "metadata": {
    "papermill": {
     "duration": 0.063607,
     "end_time": "2021-03-04T15:11:56.697983",
     "exception": false,
     "start_time": "2021-03-04T15:11:56.634376",
     "status": "completed"
    },
    "tags": []
   },
   "source": [
    "### Evaluating the Performance of the Model"
   ]
  },
  {
   "cell_type": "code",
   "execution_count": 41,
   "metadata": {
    "execution": {
     "iopub.execute_input": "2021-03-04T15:11:56.834508Z",
     "iopub.status.busy": "2021-03-04T15:11:56.833847Z",
     "iopub.status.idle": "2021-03-04T15:11:56.838326Z",
     "shell.execute_reply": "2021-03-04T15:11:56.837699Z"
    },
    "papermill": {
     "duration": 0.076117,
     "end_time": "2021-03-04T15:11:56.838487",
     "exception": false,
     "start_time": "2021-03-04T15:11:56.762370",
     "status": "completed"
    },
    "tags": []
   },
   "outputs": [
    {
     "name": "stdout",
     "output_type": "stream",
     "text": [
      "Mean Absolute Error = 0.0\n",
      "Mean Squared Error=  0.0\n",
      "Root Mean Squared Error=  0.0\n"
     ]
    }
   ],
   "source": [
    "print('Mean Absolute Error =', mean_absolute_error(y_test, pred_vals_GNB))\n",
    "print(\"Mean Squared Error= \", mean_squared_error(y_test, pred_vals_GNB))\n",
    "print(\"Root Mean Squared Error= \", np.sqrt(mean_squared_error(y_test, pred_vals_GNB)))"
   ]
  },
  {
   "cell_type": "markdown",
   "metadata": {
    "papermill": {
     "duration": 0.066832,
     "end_time": "2021-03-04T15:11:56.970162",
     "exception": false,
     "start_time": "2021-03-04T15:11:56.903330",
     "status": "completed"
    },
    "tags": []
   },
   "source": [
    "### Conclusion:: Among all models, Support Vector Machine gives 98.33% accuracy and the mean absolute error is 1.6% whereas other models gives perfect model fit. Though in Machine Learning, there is no specific model which gives 100% result accuracy of the dataset. This dataset apart from Support Vector Machine, gives 100% accuracy, which is nearly impossible. \n",
    "### What do you think regarding the same? Kindly provide your valuable feedback in the comment section."
   ]
  }
 ],
 "metadata": {
  "kernelspec": {
   "display_name": "Python 3",
   "language": "python",
   "name": "python3"
  },
  "language_info": {
   "codemirror_mode": {
    "name": "ipython",
    "version": 3
   },
   "file_extension": ".py",
   "mimetype": "text/x-python",
   "name": "python",
   "nbconvert_exporter": "python",
   "pygments_lexer": "ipython3",
   "version": "3.7.9"
  },
  "papermill": {
   "default_parameters": {},
   "duration": 22.817771,
   "end_time": "2021-03-04T15:11:57.776365",
   "environment_variables": {},
   "exception": null,
   "input_path": "__notebook__.ipynb",
   "output_path": "__notebook__.ipynb",
   "parameters": {},
   "start_time": "2021-03-04T15:11:34.958594",
   "version": "2.2.2"
  }
 },
 "nbformat": 4,
 "nbformat_minor": 4
}
